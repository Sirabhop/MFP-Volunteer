{
  "nbformat": 4,
  "nbformat_minor": 0,
  "metadata": {
    "colab": {
      "name": "20220627_OPS MOPH.ipynb",
      "provenance": [],
      "mount_file_id": "1NzuvI8JF7hoKBwx20etpPC_pj1CMWyZT",
      "authorship_tag": "ABX9TyNzGB3QiR5wVwjyjHIkecGy",
      "include_colab_link": true
    },
    "kernelspec": {
      "name": "python3",
      "display_name": "Python 3"
    },
    "language_info": {
      "name": "python"
    }
  },
  "cells": [
    {
      "cell_type": "markdown",
      "metadata": {
        "id": "view-in-github",
        "colab_type": "text"
      },
      "source": [
        "<a href=\"https://colab.research.google.com/github/Sirabhop/MFP-Volunteer/blob/main/20220627_OPS_MOPH.ipynb\" target=\"_parent\"><img src=\"https://colab.research.google.com/assets/colab-badge.svg\" alt=\"Open In Colab\"/></a>"
      ]
    },
    {
      "cell_type": "code",
      "source": [
        "import os\n",
        "import numpy as np\n",
        "import pandas as pd\n",
        "import requests"
      ],
      "metadata": {
        "id": "iNq7Pg0WJ3yz"
      },
      "execution_count": null,
      "outputs": []
    },
    {
      "cell_type": "code",
      "source": [
        "os.chdir('/content/drive/MyDrive/My Project/MFP_Volunteer/20220627_OPS_MOPH')"
      ],
      "metadata": {
        "id": "_H1_BJRqJ9A7"
      },
      "execution_count": null,
      "outputs": []
    },
    {
      "cell_type": "code",
      "source": [
        "#For tracking data\n",
        "def track_status(df, compare_df, col_list):\n",
        "  print('Row:', \"{:,}\".format(len(df.index)), 'and', 'Columns:', \"{:,}\".format(len(df.columns)))\n",
        "\n",
        "  for i in range(len(col_list)):\n",
        "    update_value = df[col_list[i]].sum()\n",
        "    base_value = compare_df[col_list[i]].sum()\n",
        "    print(col_list[i]+' of new df:', \"{:,}\".format(update_value))\n",
        "    print(col_list[i]+' of base df:', \"{:,}\".format(base_value))\n",
        "    if update_value == base_value:\n",
        "      print('pass: the', col_list[i], 'are match')\n",
        "    else:\n",
        "      print(col_list[i], 'are mismatch!!!')\n",
        "      if update_value > base_value:\n",
        "        print('New dataframe exceed by', update_value-base_value, '('+str(1-update_value*100/base_value)+'%)')\n",
        "      else:\n",
        "        print('New dataframe exceed by', base_value-update_value, '('+str(update_value*100/base_value)+'%)')"
      ],
      "metadata": {
        "id": "kqF2sNNuKx50"
      },
      "execution_count": null,
      "outputs": []
    },
    {
      "cell_type": "code",
      "source": [
        "df_base = pd.read_excel('/content/drive/MyDrive/My Project/MFP_Volunteer/budget_df.xlsx', sheet_name = 'raw')\n",
        "df = df_base.copy()\n",
        "df.info()"
      ],
      "metadata": {
        "id": "DHmMrEk3KDI1",
        "colab": {
          "base_uri": "https://localhost:8080/"
        },
        "outputId": "26031ea9-78c5-40fc-a8d6-a33ed961a22e"
      },
      "execution_count": null,
      "outputs": [
        {
          "output_type": "stream",
          "name": "stdout",
          "text": [
            "<class 'pandas.core.frame.DataFrame'>\n",
            "RangeIndex: 52031 entries, 0 to 52030\n",
            "Data columns (total 22 columns):\n",
            " #   Column            Non-Null Count  Dtype  \n",
            "---  ------            --------------  -----  \n",
            " 0   REF_DOC           52031 non-null  object \n",
            " 1   REF_PAGE_NO       52031 non-null  int64  \n",
            " 2   MINISTRY          52031 non-null  object \n",
            " 3   BUDGETARY_UNIT    52031 non-null  object \n",
            " 4   BUDGET_PLAN       52031 non-null  object \n",
            " 5   CROSS_FUNC?       52031 non-null  bool   \n",
            " 6   PROJECT           25017 non-null  object \n",
            " 7   OUTPUT            24648 non-null  object \n",
            " 8   CATEGORY_LV1      52019 non-null  object \n",
            " 9   CATEGORY_LV2      49580 non-null  object \n",
            " 10  CATEGORY_LV3      33257 non-null  object \n",
            " 11  CATEGORY_LV4      22755 non-null  object \n",
            " 12  CATEGORY_LV5      457 non-null    object \n",
            " 13  CATEGORY_LV6      0 non-null      float64\n",
            " 14  ITEM_DESCRIPTION  52029 non-null  object \n",
            " 15  FISCAL_YEAR       52031 non-null  int64  \n",
            " 16  OBLIGED?          52031 non-null  bool   \n",
            " 17  AMOUNT            52031 non-null  float64\n",
            " 18  PROVINCE          23823 non-null  object \n",
            " 19  REGION_x          23721 non-null  object \n",
            " 20  MAIN              52029 non-null  object \n",
            " 21  REGION_y          23823 non-null  object \n",
            "dtypes: bool(2), float64(2), int64(2), object(16)\n",
            "memory usage: 8.0+ MB\n"
          ]
        }
      ]
    },
    {
      "cell_type": "code",
      "source": [
        "track_status(df, df_base, ['AMOUNT'])"
      ],
      "metadata": {
        "colab": {
          "base_uri": "https://localhost:8080/"
        },
        "id": "YSSQnmj5KzOV",
        "outputId": "e597ee84-20a8-4349-8829-c971f1b9a8b6"
      },
      "execution_count": null,
      "outputs": [
        {
          "output_type": "stream",
          "name": "stdout",
          "text": [
            "Row: 52,031 and Columns: 22\n",
            "AMOUNT of new df: 4,171,104,770,628.0\n",
            "AMOUNT of base df: 4,171,104,770,628.0\n",
            "pass: the AMOUNT are match\n"
          ]
        }
      ]
    },
    {
      "cell_type": "code",
      "source": [
        "df_moph_base = df[df['BUDGETARY_UNIT'] == 'สำนักงานปลัดกระทรวงสาธารณสุข']\n",
        "df_moph = df_moph_base.copy()"
      ],
      "metadata": {
        "id": "D93DjW2nKIee"
      },
      "execution_count": null,
      "outputs": []
    },
    {
      "cell_type": "code",
      "source": [
        "df_moph.reset_index(drop = True, inplace = True)"
      ],
      "metadata": {
        "id": "onRaSTh7OO-R"
      },
      "execution_count": null,
      "outputs": []
    },
    {
      "cell_type": "code",
      "source": [
        "track_status(df_moph, df_moph_base, ['AMOUNT'])"
      ],
      "metadata": {
        "colab": {
          "base_uri": "https://localhost:8080/"
        },
        "id": "FcFFnsubKYR8",
        "outputId": "ff002cf3-952d-4ac2-ffa0-da2e53243376"
      },
      "execution_count": null,
      "outputs": [
        {
          "output_type": "stream",
          "name": "stdout",
          "text": [
            "Row: 1,669 and Columns: 22\n",
            "AMOUNT of new df: 137,883,473,400.0\n",
            "AMOUNT of base df: 137,883,473,400.0\n",
            "pass: the AMOUNT are match\n"
          ]
        }
      ]
    },
    {
      "cell_type": "code",
      "source": [
        "extracted_list = list(df_moph.ITEM_DESCRIPTION.str.split(\" \"))"
      ],
      "metadata": {
        "id": "yqWXHxyXz0wl"
      },
      "execution_count": null,
      "outputs": []
    },
    {
      "cell_type": "code",
      "source": [
        "keep = []\n",
        "for i in range(len(extracted_list)):\n",
        "  for text in extracted_list[i]:\n",
        "    if \"โรงพยาบาล\" in text:\n",
        "      df_moph.loc[i, 'HOSPITAL'] = text"
      ],
      "metadata": {
        "id": "Tmo6p0Vb0EgS"
      },
      "execution_count": null,
      "outputs": []
    },
    {
      "cell_type": "code",
      "source": [
        "track_status(df_moph, df_moph_base, ['AMOUNT'])"
      ],
      "metadata": {
        "colab": {
          "base_uri": "https://localhost:8080/"
        },
        "id": "rBDcRC8i0oGQ",
        "outputId": "25a1418d-b604-4b86-9ab7-9c0538e58f98"
      },
      "execution_count": null,
      "outputs": [
        {
          "output_type": "stream",
          "name": "stdout",
          "text": [
            "Row: 1,669 and Columns: 23\n",
            "AMOUNT of new df: 137,883,473,400.0\n",
            "AMOUNT of base df: 137,883,473,400.0\n",
            "pass: the AMOUNT are match\n"
          ]
        }
      ]
    },
    {
      "cell_type": "code",
      "source": [
        "df_moph_bkup = df_moph.copy()"
      ],
      "metadata": {
        "id": "7BQWVdPhSf38"
      },
      "execution_count": null,
      "outputs": []
    },
    {
      "cell_type": "code",
      "source": [
        "fiscal_yr_max = df_moph_bkup.groupby(['ITEM_DESCRIPTION'])[['FISCAL_YEAR']].max().reset_index().rename(columns = {'FISCAL_YEAR': 'MAX_FISCAL_YEAR'})\n",
        "fiscal_yr_min = df_moph_bkup.groupby(['ITEM_DESCRIPTION'])[['FISCAL_YEAR']].min().reset_index().rename(columns = {'FISCAL_YEAR': 'MIN_FISCAL_YEAR'})"
      ],
      "metadata": {
        "id": "vhIa51iMSjhM"
      },
      "execution_count": null,
      "outputs": []
    },
    {
      "cell_type": "code",
      "source": [
        "df_moph = df_moph.merge(fiscal_yr_max, how = 'left', on = 'ITEM_DESCRIPTION')\n",
        "df_moph = df_moph.merge(fiscal_yr_min, how = 'left', on = 'ITEM_DESCRIPTION')"
      ],
      "metadata": {
        "id": "7WiA-tmKS8eb"
      },
      "execution_count": null,
      "outputs": []
    },
    {
      "cell_type": "code",
      "source": [
        "df_moph['DURATION'] = df_moph['MAX_FISCAL_YEAR'] - df_moph['MIN_FISCAL_YEAR'] + 1"
      ],
      "metadata": {
        "id": "bzMiBDslXD8U"
      },
      "execution_count": null,
      "outputs": []
    },
    {
      "cell_type": "code",
      "source": [
        "track_status(df_moph, df_moph_base, ['AMOUNT'])"
      ],
      "metadata": {
        "colab": {
          "base_uri": "https://localhost:8080/"
        },
        "id": "Lac2lyuqWY4h",
        "outputId": "5eed8aa5-0ddc-4480-a81a-d065f0179c24"
      },
      "execution_count": null,
      "outputs": [
        {
          "output_type": "stream",
          "name": "stdout",
          "text": [
            "Row: 1,669 and Columns: 26\n",
            "AMOUNT of new df: 137,883,473,400.0\n",
            "AMOUNT of base df: 137,883,473,400.0\n",
            "pass: the AMOUNT are match\n"
          ]
        }
      ]
    },
    {
      "cell_type": "code",
      "source": [
        "df_moph.to_excel('df_add_hospital.xlsx', sheet_name = 'raw', index = False)"
      ],
      "metadata": {
        "id": "Cp00E-peLMgI"
      },
      "execution_count": null,
      "outputs": []
    }
  ]
}