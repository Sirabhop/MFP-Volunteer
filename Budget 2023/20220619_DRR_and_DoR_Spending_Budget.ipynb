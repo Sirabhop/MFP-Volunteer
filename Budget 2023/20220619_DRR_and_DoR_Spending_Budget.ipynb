{
  "nbformat": 4,
  "nbformat_minor": 0,
  "metadata": {
    "colab": {
      "name": "20220619_DRR and DoR Spending Budget",
      "provenance": [],
      "collapsed_sections": [],
      "mount_file_id": "1wcqFycIFUaZ4AWKihB1TbypTDJUS-M6F",
      "authorship_tag": "ABX9TyNtQrdJU5xDAbLhJUV65zKS",
      "include_colab_link": true
    },
    "kernelspec": {
      "name": "python3",
      "display_name": "Python 3"
    },
    "language_info": {
      "name": "python"
    }
  },
  "cells": [
    {
      "cell_type": "markdown",
      "metadata": {
        "id": "view-in-github",
        "colab_type": "text"
      },
      "source": [
        "<a href=\"https://colab.research.google.com/github/Sirabhop/MFP-Volunteer/blob/main/20220619_DRR_and_DoR_Spending_Budget.ipynb\" target=\"_parent\"><img src=\"https://colab.research.google.com/assets/colab-badge.svg\" alt=\"Open In Colab\"/></a>"
      ]
    },
    {
      "cell_type": "code",
      "source": [
        "import os\n",
        "import pandas as pd\n",
        "import matplotlib.pyplot as plt\n",
        "import numpy as np\n",
        "import re"
      ],
      "metadata": {
        "id": "o_LPKM7quPAH"
      },
      "execution_count": 1,
      "outputs": []
    },
    {
      "cell_type": "code",
      "source": [
        "os.chdir('/content/drive/MyDrive/My Project/MFP_Volunteer/20220619_DRRandDoR')"
      ],
      "metadata": {
        "id": "L-0JK2bhuQvx"
      },
      "execution_count": 2,
      "outputs": []
    },
    {
      "cell_type": "markdown",
      "source": [
        "###Prelim function"
      ],
      "metadata": {
        "id": "FMzkEFqv1Y3k"
      }
    },
    {
      "cell_type": "code",
      "source": [
        "def track_status(df, col_list):\n",
        "  print('Row:', \"{:,}\".format(len(df.index)), 'and', 'Columns:', \"{:,}\".format(len(df.columns)))\n",
        "  for i in range(len(col_list)):\n",
        "    print(col_list[i]+':', \"{:,}\".format(df[col_list[i]].sum()))"
      ],
      "metadata": {
        "id": "nkA6vwiPzx4B"
      },
      "execution_count": 3,
      "outputs": []
    },
    {
      "cell_type": "code",
      "source": [
        "def extract_from_specific_word(df, col_to_extract, word, range_):\n",
        "  to_extract = df[col_to_extract].values\n",
        "  extracted = []\n",
        "  for i in range(len(to_extract)):\n",
        "    km_index = str(to_extract[i]).find(word)\n",
        "    if km_index != -1:\n",
        "      km = to_extract[i][km_index: km_index + range_]\n",
        "      km = ''.join(re.findall(\"[0-9]\", km))\n",
        "      extracted.append(str(km))\n",
        "    else:\n",
        "      extracted.append(np.NaN)\n",
        "  return extracted"
      ],
      "metadata": {
        "id": "05sUdB_M2Sxv"
      },
      "execution_count": 4,
      "outputs": []
    },
    {
      "cell_type": "code",
      "source": [
        "def find_start_end(df, col_n_start, col_n_end):\n",
        "  start = []\n",
        "  end = []\n",
        "  years = df.columns[col_n_start:col_n_end]\n",
        "  r_years = list(reversed(years))\n",
        "  nrow = len(df.index)\n",
        "  ncol = len(years)\n",
        "  for row_number in range(nrow):\n",
        "    for col_number in range(ncol):\n",
        "      if df.loc[row_number, years[col_number]] == 1:\n",
        "        s = years[col_number]\n",
        "        break\n",
        "    for col_number in range(ncol):\n",
        "      if df.loc[row_number, r_years[col_number]] == 1:\n",
        "        e = r_years[col_number]\n",
        "        break\n",
        "    start.append(s)\n",
        "    end.append(e)\n",
        "    print(row_number, s, e)\n",
        "  return start, end"
      ],
      "metadata": {
        "id": "8CjjCrAkdr46"
      },
      "execution_count": 5,
      "outputs": []
    },
    {
      "cell_type": "markdown",
      "source": [
        "###Import data"
      ],
      "metadata": {
        "id": "V1oXtgsT1bxd"
      }
    },
    {
      "cell_type": "code",
      "source": [
        "df = pd.read_excel('/content/drive/MyDrive/My Project/MFP_Volunteer/งบประมาณประเทศไทย 2566 (ฉบับร่างพ.ร.บ.) - PDF to CSV.xlsx', sheet_name = 'RELEASE_22-05-27')"
      ],
      "metadata": {
        "colab": {
          "base_uri": "https://localhost:8080/"
        },
        "id": "TbPyV7B_uTfH",
        "outputId": "42d8b054-94aa-46d4-a8ad-d2cdaf57f2e6"
      },
      "execution_count": 6,
      "outputs": [
        {
          "output_type": "stream",
          "name": "stderr",
          "text": [
            "/usr/local/lib/python3.7/dist-packages/openpyxl/worksheet/_reader.py:312: UserWarning: Unknown extension is not supported and will be removed\n",
            "  warn(msg)\n"
          ]
        }
      ]
    },
    {
      "cell_type": "code",
      "source": [
        "df_MoT = df[df['MINISTRY'] == 'กระทรวงคมนาคม']\n",
        "df_MoT.info()"
      ],
      "metadata": {
        "colab": {
          "base_uri": "https://localhost:8080/"
        },
        "id": "V7TlQmetuq1O",
        "outputId": "fff184b5-7865-41b7-bbb3-0162446e3bca"
      },
      "execution_count": 7,
      "outputs": [
        {
          "output_type": "stream",
          "name": "stdout",
          "text": [
            "<class 'pandas.core.frame.DataFrame'>\n",
            "Int64Index: 6337 entries, 34001 to 40339\n",
            "Data columns (total 18 columns):\n",
            " #   Column            Non-Null Count  Dtype  \n",
            "---  ------            --------------  -----  \n",
            " 0   REF_DOC           6337 non-null   object \n",
            " 1   REF_PAGE_NO       6337 non-null   float64\n",
            " 2   MINISTRY          6337 non-null   object \n",
            " 3   BUDGETARY_UNIT    6337 non-null   object \n",
            " 4   BUDGET_PLAN       6337 non-null   object \n",
            " 5   CROSS_FUNC?       6337 non-null   bool   \n",
            " 6   PROJECT           3716 non-null   object \n",
            " 7   OUTPUT            2557 non-null   object \n",
            " 8   CATEGORY_LV1      6337 non-null   object \n",
            " 9   CATEGORY_LV2      6191 non-null   object \n",
            " 10  CATEGORY_LV3      5764 non-null   object \n",
            " 11  CATEGORY_LV4      5228 non-null   object \n",
            " 12  CATEGORY_LV5      337 non-null    object \n",
            " 13  CATEGORY_LV6      0 non-null      float64\n",
            " 14  ITEM_DESCRIPTION  6337 non-null   object \n",
            " 15  FISCAL_YEAR       6337 non-null   float64\n",
            " 16  OBLIGED?          6337 non-null   bool   \n",
            " 17  AMOUNT            6337 non-null   float64\n",
            "dtypes: bool(2), float64(4), object(12)\n",
            "memory usage: 854.0+ KB\n"
          ]
        }
      ]
    },
    {
      "cell_type": "code",
      "source": [
        "track_status(df_MoT, ['AMOUNT'])"
      ],
      "metadata": {
        "colab": {
          "base_uri": "https://localhost:8080/"
        },
        "id": "PqAaSaTlqvqH",
        "outputId": "efd63257-bdcd-45a2-885b-528e2ec0cf4a"
      },
      "execution_count": 8,
      "outputs": [
        {
          "output_type": "stream",
          "name": "stdout",
          "text": [
            "Row: 6,337 and Columns: 18\n",
            "AMOUNT: 409,051,732,300.0\n"
          ]
        }
      ]
    },
    {
      "cell_type": "code",
      "source": [
        "df_MoT_RR = df_MoT[df_MoT['BUDGETARY_UNIT'].isin(['กรมทางหลวง'])]\n",
        "track_status(df_MoT_RR, ['AMOUNT'])"
      ],
      "metadata": {
        "id": "EDS_59Ei2AYa",
        "colab": {
          "base_uri": "https://localhost:8080/"
        },
        "outputId": "1c459012-8dbf-494e-c991-a33b4a332d4a"
      },
      "execution_count": 9,
      "outputs": [
        {
          "output_type": "stream",
          "name": "stdout",
          "text": [
            "Row: 3,604 and Columns: 18\n",
            "AMOUNT: 308,323,668,800.0\n"
          ]
        }
      ]
    },
    {
      "cell_type": "code",
      "source": [
        "df_focused = df_MoT_RR[df_MoT_RR['BUDGET_PLAN'] == 'แผนงานบูรณาการพัฒนาด้านคมนาคมและระบบโลจิสติกส์']\n",
        "track_status(df_focused, ['AMOUNT'])"
      ],
      "metadata": {
        "colab": {
          "base_uri": "https://localhost:8080/"
        },
        "id": "1vVDG3E31xzn",
        "outputId": "d3a4464d-a8e8-43c1-b5d0-ff62bae98bdf"
      },
      "execution_count": 30,
      "outputs": [
        {
          "output_type": "stream",
          "name": "stdout",
          "text": [
            "Row: 2,314 and Columns: 18\n",
            "AMOUNT: 260,514,448,700.0\n"
          ]
        }
      ]
    },
    {
      "cell_type": "markdown",
      "source": [
        "####1. Extract main item"
      ],
      "metadata": {
        "id": "YmjZcRJfzORn"
      }
    },
    {
      "cell_type": "code",
      "source": [
        "df_focused[['MAIN', 'TO_DROP', 'MAIN_2']] = df_focused.ITEM_DESCRIPTION.str.partition()\n",
        "df_focused.reset_index(drop = True, inplace = True)\n",
        "df_focused.info()"
      ],
      "metadata": {
        "colab": {
          "base_uri": "https://localhost:8080/"
        },
        "id": "mFSpJIMy7nEQ",
        "outputId": "fefe6899-89cc-4a6e-fdc5-c24a1af92116"
      },
      "execution_count": 31,
      "outputs": [
        {
          "output_type": "stream",
          "name": "stdout",
          "text": [
            "<class 'pandas.core.frame.DataFrame'>\n",
            "RangeIndex: 2314 entries, 0 to 2313\n",
            "Data columns (total 21 columns):\n",
            " #   Column            Non-Null Count  Dtype  \n",
            "---  ------            --------------  -----  \n",
            " 0   REF_DOC           2314 non-null   object \n",
            " 1   REF_PAGE_NO       2314 non-null   float64\n",
            " 2   MINISTRY          2314 non-null   object \n",
            " 3   BUDGETARY_UNIT    2314 non-null   object \n",
            " 4   BUDGET_PLAN       2314 non-null   object \n",
            " 5   CROSS_FUNC?       2314 non-null   bool   \n",
            " 6   PROJECT           2314 non-null   object \n",
            " 7   OUTPUT            0 non-null      object \n",
            " 8   CATEGORY_LV1      2314 non-null   object \n",
            " 9   CATEGORY_LV2      2228 non-null   object \n",
            " 10  CATEGORY_LV3      2228 non-null   object \n",
            " 11  CATEGORY_LV4      2126 non-null   object \n",
            " 12  CATEGORY_LV5      298 non-null    object \n",
            " 13  CATEGORY_LV6      0 non-null      float64\n",
            " 14  ITEM_DESCRIPTION  2314 non-null   object \n",
            " 15  FISCAL_YEAR       2314 non-null   float64\n",
            " 16  OBLIGED?          2314 non-null   bool   \n",
            " 17  AMOUNT            2314 non-null   float64\n",
            " 18  MAIN              2314 non-null   object \n",
            " 19  TO_DROP           2314 non-null   object \n",
            " 20  MAIN_2            2314 non-null   object \n",
            "dtypes: bool(2), float64(4), object(15)\n",
            "memory usage: 348.1+ KB\n"
          ]
        },
        {
          "output_type": "stream",
          "name": "stderr",
          "text": [
            "/usr/local/lib/python3.7/dist-packages/pandas/core/frame.py:3641: SettingWithCopyWarning: \n",
            "A value is trying to be set on a copy of a slice from a DataFrame.\n",
            "Try using .loc[row_indexer,col_indexer] = value instead\n",
            "\n",
            "See the caveats in the documentation: https://pandas.pydata.org/pandas-docs/stable/user_guide/indexing.html#returning-a-view-versus-a-copy\n",
            "  self[k1] = value[k2]\n"
          ]
        }
      ]
    },
    {
      "cell_type": "code",
      "source": [
        "df_focused.drop(columns = 'TO_DROP', axis = 1, inplace = True)"
      ],
      "metadata": {
        "id": "y-tAJf-eCjZL"
      },
      "execution_count": null,
      "outputs": []
    },
    {
      "cell_type": "code",
      "source": [
        "track_status(df_focused, ['AMOUNT'])"
      ],
      "metadata": {
        "colab": {
          "base_uri": "https://localhost:8080/"
        },
        "id": "iK-UyLrwkA9C",
        "outputId": "7a6cac4f-07b6-4fa3-922d-b2842501e876"
      },
      "execution_count": 13,
      "outputs": [
        {
          "output_type": "stream",
          "name": "stdout",
          "text": [
            "Row: 2,314 and Columns: 20\n",
            "AMOUNT: 260,514,448,700.0\n"
          ]
        }
      ]
    },
    {
      "cell_type": "markdown",
      "source": [
        "####2. Extract distance"
      ],
      "metadata": {
        "id": "4FZI1rCxzTOF"
      }
    },
    {
      "cell_type": "code",
      "source": [
        "to_extract = df_focused['MAIN_2'].values\n",
        "extracted = []\n",
        "unit = []\n",
        "for i in range(len(to_extract)):\n",
        "  km_index = str(to_extract[i]).find('กม.')\n",
        "  m_index = str(to_extract[i]).find(' ม.')\n",
        "  if km_index != -1:\n",
        "    km = to_extract[i][km_index - 8: km_index]\n",
        "    km = ''.join(re.findall(\"[0-9,.]\", km))\n",
        "    extracted.append(km)\n",
        "    unit.append('km')\n",
        "  elif m_index != -1:\n",
        "    m = to_extract[i][m_index - 8: m_index+1]\n",
        "    m = ''.join(re.findall(\"[0-9,.]\", m))\n",
        "    extracted.append(m)\n",
        "    unit.append('m')\n",
        "  else:\n",
        "    extracted.append(np.NaN)\n",
        "    unit.append(np.NaN)"
      ],
      "metadata": {
        "id": "wSMGW2yz3IFT"
      },
      "execution_count": 14,
      "outputs": []
    },
    {
      "cell_type": "code",
      "source": [
        "df_focused['DISTANCE'] = extracted\n",
        "df_focused['UNIT'] = unit"
      ],
      "metadata": {
        "id": "nOCmP-kZ6YRW"
      },
      "execution_count": null,
      "outputs": []
    },
    {
      "cell_type": "code",
      "source": [
        "df_focused['DISTANCE'] = df_focused['DISTANCE'].str.replace(',', '', regex = True)\n",
        "df_focused.loc[df_focused['UNIT'] == 'm', 'DISTANCE'] = df_focused.loc[df_focused['UNIT'] == 'm', 'DISTANCE'].astype(float)/1000"
      ],
      "metadata": {
        "id": "U-UcZm2lzzNi"
      },
      "execution_count": null,
      "outputs": []
    },
    {
      "cell_type": "code",
      "source": [
        "df_focused['DISTANCE'] = pd.to_numeric(df_focused['DISTANCE'], errors = 'coerce')"
      ],
      "metadata": {
        "id": "SRgjL_pwy-Dw"
      },
      "execution_count": null,
      "outputs": []
    },
    {
      "cell_type": "code",
      "source": [
        "track_status(df_focused, ['AMOUNT', 'DISTANCE'])"
      ],
      "metadata": {
        "colab": {
          "base_uri": "https://localhost:8080/"
        },
        "id": "DOvNM-_pkOsI",
        "outputId": "de6b5c2e-6dbb-46d0-98eb-9825f3ae78f1"
      },
      "execution_count": 18,
      "outputs": [
        {
          "output_type": "stream",
          "name": "stdout",
          "text": [
            "Row: 2,314 and Columns: 22\n",
            "AMOUNT: 260,514,448,700.0\n",
            "DISTANCE: 12,779.386\n"
          ]
        }
      ]
    },
    {
      "cell_type": "markdown",
      "source": [
        "####3. Extract province"
      ],
      "metadata": {
        "id": "_qIUwVUQVmSp"
      }
    },
    {
      "cell_type": "code",
      "source": [
        "df_focused.insert(18, 'PROVINCE', np.NaN)\n",
        "#Import province\n",
        "province = pd.read_excel('/content/drive/MyDrive/My Project/MFP_Volunteer/25640531_sc002_.xlsx', usecols = ['ProvinceNameThai', 'RegionName'])\n",
        "province.rename(columns = {'ProvinceNameThai': 'PROVINCE'}, inplace = True)\n",
        "#Type 1: full province\n",
        "province_type1_list = province.PROVINCE.to_list()\n",
        "#Type 2: in case the item_description doesn't contain จังหวัด\n",
        "province_type2_list = []\n",
        "for i in range(len(province_type1_list)):\n",
        "  province_type2_list.append(province_type1_list[i].replace('จังหวัด', ''))\n",
        "for i in range(len(province_type2_list)):\n",
        "  df_focused.loc[df_focused.ITEM_DESCRIPTION.str.contains(province_type2_list[i]), 'PROVINCE'] = province_type1_list[i]"
      ],
      "metadata": {
        "id": "11EWkw-mKpea"
      },
      "execution_count": null,
      "outputs": []
    },
    {
      "cell_type": "code",
      "source": [
        "track_status(df_focused, ['AMOUNT', 'DISTANCE'])"
      ],
      "metadata": {
        "colab": {
          "base_uri": "https://localhost:8080/"
        },
        "id": "y1nOoTfRkfTo",
        "outputId": "003086a4-5aa7-4827-cfe7-b435a4924809"
      },
      "execution_count": 20,
      "outputs": [
        {
          "output_type": "stream",
          "name": "stdout",
          "text": [
            "Row: 2,314 and Columns: 23\n",
            "AMOUNT: 260,514,448,700.0\n",
            "DISTANCE: 12,779.386\n"
          ]
        }
      ]
    },
    {
      "cell_type": "markdown",
      "source": [
        "###Answer the question"
      ],
      "metadata": {
        "id": "AFThLS9LGgMK"
      }
    },
    {
      "cell_type": "markdown",
      "source": [
        "####1. Obliged budget start from 2023"
      ],
      "metadata": {
        "id": "hiEzwz22Gk5o"
      }
    },
    {
      "cell_type": "code",
      "source": [
        "#Get dummies 10 columns added\n",
        "df_focused[['2016','2017','2018','2019','2020','2021','2022','2023','2024','2025']] = pd.get_dummies(df_focused['FISCAL_YEAR'])"
      ],
      "metadata": {
        "id": "1ujm0G0EGj0N"
      },
      "execution_count": null,
      "outputs": []
    },
    {
      "cell_type": "code",
      "source": [
        "track_status(df_focused, ['AMOUNT'])"
      ],
      "metadata": {
        "colab": {
          "base_uri": "https://localhost:8080/"
        },
        "id": "CO9t8TOQdM96",
        "outputId": "b9f27b85-7fe7-4401-83fd-78feb9e0bd25"
      },
      "execution_count": 37,
      "outputs": [
        {
          "output_type": "stream",
          "name": "stdout",
          "text": [
            "Row: 2,314 and Columns: 32\n",
            "AMOUNT: 260,514,448,700.0\n"
          ]
        }
      ]
    },
    {
      "cell_type": "code",
      "source": [
        "df_distinct = df_focused.groupby(['ITEM_DESCRIPTION']).agg({'2016':'sum', '2017':'sum', '2018':'sum', '2019':'sum', '2020':'sum', \n",
        "                                                                    '2021':'sum', '2022':'sum', '2023':'sum', '2024':'sum', '2025':'sum', \n",
        "                                                                    'AMOUNT':'sum'})"
      ],
      "metadata": {
        "id": "lhY33cDNHzq2"
      },
      "execution_count": 66,
      "outputs": []
    },
    {
      "cell_type": "code",
      "source": [
        "track_status(df_distinct, ['AMOUNT'])"
      ],
      "metadata": {
        "colab": {
          "base_uri": "https://localhost:8080/"
        },
        "id": "h6wbmC3sdll_",
        "outputId": "c6391f23-7119-4fa4-98f4-247a3114f1be"
      },
      "execution_count": 67,
      "outputs": [
        {
          "output_type": "stream",
          "name": "stdout",
          "text": [
            "Row: 1,170 and Columns: 11\n",
            "AMOUNT: 260,514,448,700.0\n"
          ]
        }
      ]
    },
    {
      "cell_type": "markdown",
      "source": [
        "4. Extract road code"
      ],
      "metadata": {
        "id": "-Vrl0iNPmkna"
      }
    },
    {
      "cell_type": "code",
      "source": [
        "df_distinct.reset_index(inplace = True)"
      ],
      "metadata": {
        "id": "ZYZq4WG5k2_p"
      },
      "execution_count": 69,
      "outputs": []
    },
    {
      "cell_type": "code",
      "source": [
        "df_distinct['ROAD'] = extract_from_specific_word(df_distinct, 'ITEM_DESCRIPTION', 'ทางหลวงหมายเลข', 20)"
      ],
      "metadata": {
        "id": "bOdGXTrdkbN7"
      },
      "execution_count": 70,
      "outputs": []
    },
    {
      "cell_type": "code",
      "source": [
        "track_status(df_distinct, ['AMOUNT'])"
      ],
      "metadata": {
        "colab": {
          "base_uri": "https://localhost:8080/"
        },
        "id": "9NbrYNd7do0d",
        "outputId": "73d8cd9f-5a2a-41b9-f0f6-709a7a972f1a"
      },
      "execution_count": 71,
      "outputs": [
        {
          "output_type": "stream",
          "name": "stdout",
          "text": [
            "Row: 1,170 and Columns: 13\n",
            "AMOUNT: 260,514,448,700.0\n"
          ]
        }
      ]
    },
    {
      "cell_type": "code",
      "source": [
        "start, end = find_start_end(df_distinct, 2, 12)"
      ],
      "metadata": {
        "id": "oEUFNgxtaZ2x"
      },
      "execution_count": null,
      "outputs": []
    },
    {
      "cell_type": "code",
      "source": [
        "df_distinct['START'] = start\n",
        "df_distinct['END'] = end"
      ],
      "metadata": {
        "id": "LOXUjEWHdZZz"
      },
      "execution_count": 73,
      "outputs": []
    },
    {
      "cell_type": "code",
      "source": [
        "track_status(df_distinct, ['AMOUNT'])"
      ],
      "metadata": {
        "colab": {
          "base_uri": "https://localhost:8080/"
        },
        "id": "tiUtyQ5lnaCu",
        "outputId": "ba0f22d3-a475-4c30-84b9-3c6b9bc062a6"
      },
      "execution_count": 74,
      "outputs": [
        {
          "output_type": "stream",
          "name": "stdout",
          "text": [
            "Row: 1,170 and Columns: 15\n",
            "AMOUNT: 260,514,448,700.0\n"
          ]
        }
      ]
    },
    {
      "cell_type": "code",
      "source": [
        "df_distinct = pd.merge(df_distinct, df_focused[['ITEM_DESCRIPTION', 'BUDGET_PLAN', \n",
        "                                'PROJECT', 'OBLIGED?', 'CATEGORY_LV1', 'CATEGORY_LV2', \n",
        "                                'CATEGORY_LV3', 'CATEGORY_LV4', 'PROVINCE']],\n",
        "                                how = 'inner', on = 'ITEM_DESCRIPTION')"
      ],
      "metadata": {
        "id": "pB3sxpHOJFaI"
      },
      "execution_count": 75,
      "outputs": []
    },
    {
      "cell_type": "code",
      "source": [
        "track_status(df_distinct, ['AMOUNT'])"
      ],
      "metadata": {
        "colab": {
          "base_uri": "https://localhost:8080/"
        },
        "id": "2p3jkOyOn9kR",
        "outputId": "49846edb-ec9f-4154-eb0c-c35530f87184"
      },
      "execution_count": 76,
      "outputs": [
        {
          "output_type": "stream",
          "name": "stdout",
          "text": [
            "Row: 2,314 and Columns: 23\n",
            "AMOUNT: 1,186,603,530,000.0\n"
          ]
        }
      ]
    },
    {
      "cell_type": "code",
      "source": [
        "df_distinct.drop_duplicates(inplace = True)"
      ],
      "metadata": {
        "id": "6gETv17oscQV"
      },
      "execution_count": 77,
      "outputs": []
    },
    {
      "cell_type": "code",
      "source": [
        "track_status(df_distinct, ['AMOUNT'])"
      ],
      "metadata": {
        "colab": {
          "base_uri": "https://localhost:8080/"
        },
        "id": "hyq6lwf5slmN",
        "outputId": "bbd637cc-8568-4e78-b4da-d592aa23a3ac"
      },
      "execution_count": 78,
      "outputs": [
        {
          "output_type": "stream",
          "name": "stdout",
          "text": [
            "Row: 1,170 and Columns: 23\n",
            "AMOUNT: 260,514,448,700.0\n"
          ]
        }
      ]
    },
    {
      "cell_type": "code",
      "source": [
        "df_distinct['DURATION'] = pd.to_numeric(df_distinct['END']) - pd.to_numeric(df_distinct['START']) + 1"
      ],
      "metadata": {
        "id": "HE_6kst6yHQD"
      },
      "execution_count": 79,
      "outputs": []
    },
    {
      "cell_type": "code",
      "source": [
        "track_status(df_distinct, ['AMOUNT'])"
      ],
      "metadata": {
        "colab": {
          "base_uri": "https://localhost:8080/"
        },
        "id": "BaAPvJHEyb5I",
        "outputId": "1cb95e6b-c276-48b9-df97-a7ce57d49075"
      },
      "execution_count": 80,
      "outputs": [
        {
          "output_type": "stream",
          "name": "stdout",
          "text": [
            "Row: 1,170 and Columns: 24\n",
            "AMOUNT: 260,514,448,700.0\n"
          ]
        }
      ]
    },
    {
      "cell_type": "code",
      "source": [
        "df_distinct['ROAD_LV'] = df_distinct['ROAD'].str.len()"
      ],
      "metadata": {
        "id": "6KiUyjibk_-n"
      },
      "execution_count": 81,
      "outputs": []
    },
    {
      "cell_type": "code",
      "source": [
        "track_status(df_distinct, ['AMOUNT'])"
      ],
      "metadata": {
        "colab": {
          "base_uri": "https://localhost:8080/"
        },
        "id": "AafhTN7wlPXr",
        "outputId": "15f3cf1e-1fab-4c94-b094-a4a63b6ba847"
      },
      "execution_count": 82,
      "outputs": [
        {
          "output_type": "stream",
          "name": "stdout",
          "text": [
            "Row: 1,170 and Columns: 25\n",
            "AMOUNT: 260,514,448,700.0\n"
          ]
        }
      ]
    },
    {
      "cell_type": "markdown",
      "source": [
        "####4. Export"
      ],
      "metadata": {
        "id": "KJXkYCWvXQR4"
      }
    },
    {
      "cell_type": "code",
      "source": [
        "df_MoT.to_excel('20220619_MoT.xlsx', index=False)"
      ],
      "metadata": {
        "id": "cuEbDoMoXV_t"
      },
      "execution_count": null,
      "outputs": []
    },
    {
      "cell_type": "code",
      "source": [
        "df_MoT_RR.to_excel('20220619_MoT_province.xlsx', index=False)"
      ],
      "metadata": {
        "id": "TNj0ClDqXOVc"
      },
      "execution_count": null,
      "outputs": []
    },
    {
      "cell_type": "code",
      "source": [
        "df_distinct.to_excel('20220623_MoT_final_DoR_2.xlsx', index = False)"
      ],
      "metadata": {
        "id": "Okl900DaXW1K"
      },
      "execution_count": 83,
      "outputs": []
    },
    {
      "cell_type": "code",
      "source": [
        "df_distinct.to_excel('20220623_MoT_DoR_2023.xlsx', index = False)"
      ],
      "metadata": {
        "id": "J7InmIWtMnuQ"
      },
      "execution_count": null,
      "outputs": []
    }
  ]
}