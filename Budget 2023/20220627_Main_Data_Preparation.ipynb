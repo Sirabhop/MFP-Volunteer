{
 "cells": [
  {
   "cell_type": "markdown",
   "metadata": {},
   "source": [
    "# Data Preparation\n",
    "\n",
    "**Script Objective:** to prepare Thai government budgetary excel file for policy analysis.\n",
    "\n",
    "**Version 1.0** updated by Jay Sirabhop"
   ]
  },
  {
   "cell_type": "markdown",
   "metadata": {},
   "source": [
    "## 1. Prelim step"
   ]
  },
  {
   "cell_type": "markdown",
   "metadata": {},
   "source": [
    "Import library"
   ]
  },
  {
   "cell_type": "code",
   "execution_count": 2,
   "metadata": {},
   "outputs": [],
   "source": [
    "import os\n",
    "import pandas as pd\n",
    "import matplotlib.pyplot as plt\n",
    "import numpy as np"
   ]
  },
  {
   "cell_type": "markdown",
   "metadata": {},
   "source": [
    "Deploy function"
   ]
  },
  {
   "cell_type": "code",
   "execution_count": 4,
   "metadata": {},
   "outputs": [],
   "source": [
    "#For tracking data\n",
    "def track_status(df, col_list):\n",
    "  print('Row:', \"{:,}\".format(len(df.index)), 'and', 'Columns:', \"{:,}\".format(len(df.columns)))\n",
    "  for i in range(len(col_list)):\n",
    "    print(col_list[i]+':', \"{:,}\".format(df[col_list[i]].sum()))"
   ]
  },
  {
   "cell_type": "code",
   "execution_count": 4,
   "metadata": {},
   "outputs": [],
   "source": [
    "def extract_from_specific_word(df, col_to_extract, word, range_):\n",
    "  to_extract = df[col_to_extract].values\n",
    "  extracted = []\n",
    "  for i in range(len(to_extract)):\n",
    "    km_index = str(to_extract[i]).find(word)\n",
    "    if km_index != -1:\n",
    "      km = to_extract[i][km_index: km_index + range_]\n",
    "      km = ''.join(re.findall(\"[0-9]\", km))\n",
    "      extracted.append(str(km))\n",
    "    else:\n",
    "      extracted.append(np.NaN)\n",
    "  return extracted"
   ]
  },
  {
   "cell_type": "code",
   "execution_count": 5,
   "metadata": {},
   "outputs": [],
   "source": [
    "def find_start_end(df, col_n_start, col_n_end):\n",
    "  start = []\n",
    "  end = []\n",
    "  years = df.columns[col_n_start:col_n_end]\n",
    "  r_years = list(reversed(years))\n",
    "  nrow = len(df.index)\n",
    "  ncol = len(years)\n",
    "  for row_number in range(nrow):\n",
    "    for col_number in range(ncol):\n",
    "      if not np.isnan(df.loc[row_number, years[col_number]]):\n",
    "        s = years[col_number]\n",
    "        break\n",
    "    for col_number in range(ncol):\n",
    "      if not np.isnan(df.loc[row_number, r_years[col_number]]):\n",
    "        e = r_years[col_number]\n",
    "        break\n",
    "    print(row_number, s, e)\n",
    "    start.append(s)\n",
    "    end.append(e)\n",
    "  return start, end"
   ]
  },
  {
   "cell_type": "markdown",
   "metadata": {},
   "source": [
    "Import data"
   ]
  },
  {
   "cell_type": "code",
   "execution_count": 21,
   "metadata": {},
   "outputs": [
    {
     "name": "stdout",
     "output_type": "stream",
     "text": [
      "<class 'pandas.core.frame.DataFrame'>\n",
      "RangeIndex: 52031 entries, 0 to 52030\n",
      "Data columns (total 18 columns):\n",
      " #   Column            Non-Null Count  Dtype  \n",
      "---  ------            --------------  -----  \n",
      " 0   REF_DOC           52031 non-null  object \n",
      " 1   REF_PAGE_NO       52031 non-null  float64\n",
      " 2   MINISTRY          52031 non-null  object \n",
      " 3   BUDGETARY_UNIT    52031 non-null  object \n",
      " 4   BUDGET_PLAN       52031 non-null  object \n",
      " 5   CROSS_FUNC?       52031 non-null  bool   \n",
      " 6   PROJECT           25017 non-null  object \n",
      " 7   OUTPUT            24648 non-null  object \n",
      " 8   CATEGORY_LV1      52019 non-null  object \n",
      " 9   CATEGORY_LV2      49580 non-null  object \n",
      " 10  CATEGORY_LV3      33257 non-null  object \n",
      " 11  CATEGORY_LV4      22755 non-null  object \n",
      " 12  CATEGORY_LV5      457 non-null    object \n",
      " 13  CATEGORY_LV6      0 non-null      float64\n",
      " 14  ITEM_DESCRIPTION  52029 non-null  object \n",
      " 15  FISCAL_YEAR       52031 non-null  float64\n",
      " 16  OBLIGED?          52031 non-null  bool   \n",
      " 17  AMOUNT            52031 non-null  float64\n",
      "dtypes: bool(2), float64(4), object(12)\n",
      "memory usage: 6.5+ MB\n"
     ]
    }
   ],
   "source": [
    "df = pd.read_excel('Data/งบประมาณประเทศไทย 2566 (ฉบับร่างพ.ร.บ.) - PDF to CSV.xlsx', sheet_name = 'RELEASE_22-05-27')\n",
    "df.info()"
   ]
  },
  {
   "cell_type": "markdown",
   "metadata": {},
   "source": [
    "## 2. Clean Data"
   ]
  },
  {
   "cell_type": "code",
   "execution_count": 7,
   "metadata": {},
   "outputs": [
    {
     "name": "stdout",
     "output_type": "stream",
     "text": [
      "Row: 52,031 and Columns: 18\n",
      "AMOUNT: 4,171,104,770,628.0\n"
     ]
    }
   ],
   "source": [
    "track_status(df, ['AMOUNT'])"
   ]
  },
  {
   "cell_type": "markdown",
   "metadata": {},
   "source": [
    "### Get province"
   ]
  },
  {
   "cell_type": "code",
   "execution_count": 22,
   "metadata": {},
   "outputs": [],
   "source": [
    "df.insert(18, 'PROVINCE', np.NaN)\n",
    "#Import province\n",
    "province = pd.read_excel('Data/25640531_sc002_.xlsx', usecols = ['ProvinceNameThai', 'RegionName'])\n",
    "province.rename(columns = {'ProvinceNameThai': 'PROVINCE', 'RegionName': 'REGION'}, inplace = True)\n",
    "#Type 1: full province\n",
    "province_type1_list = province.PROVINCE.to_list()\n",
    "#Type 2: in case the item_description doesn't contain จังหวัด\n",
    "province_type2_list = []\n",
    "for i in range(len(province_type1_list)):\n",
    "  province_type2_list.append(province_type1_list[i].replace('จังหวัด', ''))\n",
    "for i in range(len(province_type2_list)):\n",
    "  df.loc[df.ITEM_DESCRIPTION.str.contains(province_type2_list[i], na = False), \n",
    "         'PROVINCE'] = province_type1_list[i]\n",
    "#join for region\n",
    "df = df.merge(right = province, on = 'PROVINCE', how = 'left')"
   ]
  },
  {
   "cell_type": "code",
   "execution_count": 27,
   "metadata": {},
   "outputs": [],
   "source": [
    "df.loc[df['ITEM_DESCRIPTION'].str.contains('กาฟัสินธุ์', na = False), 'PROVINCE'] = 'จังหวัดกาฬสินธุ์'"
   ]
  },
  {
   "cell_type": "code",
   "execution_count": 28,
   "metadata": {},
   "outputs": [
    {
     "name": "stdout",
     "output_type": "stream",
     "text": [
      "Row: 52,031 and Columns: 20\n",
      "AMOUNT: 4,171,104,770,628.0\n"
     ]
    }
   ],
   "source": [
    "track_status(df, ['AMOUNT'])"
   ]
  },
  {
   "cell_type": "markdown",
   "metadata": {},
   "source": [
    "### Get unique ITEM_DESCRIPTION and insert START_YEAR and END_YEAR"
   ]
  },
  {
   "cell_type": "markdown",
   "metadata": {},
   "source": [
    "Pivot data"
   ]
  },
  {
   "cell_type": "code",
   "execution_count": 15,
   "metadata": {},
   "outputs": [],
   "source": [
    "df_distinct = df.pivot_table(values = 'AMOUNT', index = 'ITEM_DESCRIPTION', columns = 'FISCAL_YEAR', aggfunc = sum)\n",
    "df_distinct['AMOUNT'] = df_distinct.sum(axis = 1)\n",
    "df_distinct.reset_index(inplace = True)"
   ]
  },
  {
   "cell_type": "code",
   "execution_count": 16,
   "metadata": {},
   "outputs": [
    {
     "name": "stdout",
     "output_type": "stream",
     "text": [
      "Row: 22,613 and Columns: 102\n",
      "AMOUNT: 4,171,088,539,728.0\n"
     ]
    }
   ],
   "source": [
    "track_status(df_distinct, ['AMOUNT'])"
   ]
  },
  {
   "cell_type": "markdown",
   "metadata": {},
   "source": [
    "Join 2 table and discard duplicate row"
   ]
  },
  {
   "cell_type": "code",
   "execution_count": 17,
   "metadata": {},
   "outputs": [],
   "source": [
    "col_to_join = ['REF_DOC', 'REF_PAGE_NO', 'MINISTRY', 'BUDGETARY_UNIT', 'BUDGET_PLAN',\n",
    "                'CROSS_FUNC?', 'PROJECT', 'OUTPUT', 'CATEGORY_LV1', 'CATEGORY_LV2',\n",
    "                'CATEGORY_LV3', 'CATEGORY_LV4', 'CATEGORY_LV5', 'CATEGORY_LV6',\n",
    "                'ITEM_DESCRIPTION', 'OBLIGED?', 'PROVINCE']"
   ]
  },
  {
   "cell_type": "code",
   "execution_count": 18,
   "metadata": {},
   "outputs": [
    {
     "name": "stdout",
     "output_type": "stream",
     "text": [
      "Row: 52,029 and Columns: 118\n",
      "AMOUNT: 252,635,233,963,840.0\n"
     ]
    }
   ],
   "source": [
    "df_merged = pd.merge(left = df_distinct, right = df[col_to_join], on = 'ITEM_DESCRIPTION', how = 'left', validate = 'one_to_many')\n",
    "track_status(df_merged, ['AMOUNT'])"
   ]
  },
  {
   "cell_type": "code",
   "execution_count": 19,
   "metadata": {},
   "outputs": [
    {
     "name": "stdout",
     "output_type": "stream",
     "text": [
      "Row: 22,613 and Columns: 118\n",
      "AMOUNT: 4,171,088,539,728.0\n"
     ]
    }
   ],
   "source": [
    "df_merged = df_merged.drop_duplicates(subset = ['ITEM_DESCRIPTION'], keep = 'first')\n",
    "track_status(df_merged, ['AMOUNT'])"
   ]
  },
  {
   "cell_type": "code",
   "execution_count": null,
   "metadata": {},
   "outputs": [],
   "source": [
    "df_merged.reset_index(drop = True, inplace = True)\n",
    "start, end = find_start_end(df_merged, 1, 101)"
   ]
  },
  {
   "cell_type": "code",
   "execution_count": 21,
   "metadata": {},
   "outputs": [],
   "source": [
    "df_merged['START'] = start\n",
    "df_merged['END'] = end"
   ]
  },
  {
   "cell_type": "code",
   "execution_count": 22,
   "metadata": {},
   "outputs": [
    {
     "name": "stdout",
     "output_type": "stream",
     "text": [
      "Row: 22,613 and Columns: 120\n",
      "AMOUNT: 4,171,088,539,728.0\n"
     ]
    }
   ],
   "source": [
    "track_status(df_merged, ['AMOUNT'])"
   ]
  },
  {
   "cell_type": "code",
   "execution_count": 23,
   "metadata": {},
   "outputs": [
    {
     "name": "stdout",
     "output_type": "stream",
     "text": [
      "Row: 22,613 and Columns: 121\n",
      "AMOUNT: 4,171,088,539,728.0\n"
     ]
    }
   ],
   "source": [
    "df_merged['DURATION'] = df_merged['END'] - df_merged['START']\n",
    "track_status(df_merged, ['AMOUNT'])"
   ]
  },
  {
   "cell_type": "code",
   "execution_count": 24,
   "metadata": {},
   "outputs": [
    {
     "name": "stdout",
     "output_type": "stream",
     "text": [
      "Row: 22,613 and Columns: 121\n",
      "AMOUNT: 4,171,088,539,728.0\n"
     ]
    }
   ],
   "source": [
    "df_merged[['START', 'END', 'DURATION']] = df_merged[['START', 'END', 'DURATION']].astype(int)\n",
    "track_status(df_merged, ['AMOUNT'])"
   ]
  },
  {
   "cell_type": "markdown",
   "metadata": {},
   "source": [
    "### Extract main type"
   ]
  },
  {
   "cell_type": "code",
   "execution_count": 11,
   "metadata": {},
   "outputs": [],
   "source": [
    "df_merged['MAIN'] = df_merged['ITEM_DESCRIPTION'].str.split(expand = True)[0]"
   ]
  },
  {
   "cell_type": "code",
   "execution_count": 12,
   "metadata": {},
   "outputs": [
    {
     "name": "stdout",
     "output_type": "stream",
     "text": [
      "Row: 22,613 and Columns: 122\n",
      "AMOUNT: 4,171,088,539,728.0\n"
     ]
    }
   ],
   "source": [
    "track_status(df_merged, ['AMOUNT'])"
   ]
  },
  {
   "cell_type": "markdown",
   "metadata": {},
   "source": [
    "### Get Region"
   ]
  },
  {
   "cell_type": "code",
   "execution_count": 19,
   "metadata": {},
   "outputs": [],
   "source": [
    "df_merged = df_merged.merge(province, how = 'left', on = 'PROVINCE')"
   ]
  },
  {
   "cell_type": "markdown",
   "metadata": {},
   "source": [
    "## 3. Export Data"
   ]
  },
  {
   "cell_type": "code",
   "execution_count": 20,
   "metadata": {},
   "outputs": [],
   "source": [
    "df_merged.to_excel('Data/budget_df.xlsx', index = False, sheet_name = 'raw')"
   ]
  }
 ],
 "metadata": {
  "kernelspec": {
   "display_name": "Python 3.10.4 64-bit",
   "language": "python",
   "name": "python3"
  },
  "language_info": {
   "codemirror_mode": {
    "name": "ipython",
    "version": 3
   },
   "file_extension": ".py",
   "mimetype": "text/x-python",
   "name": "python",
   "nbconvert_exporter": "python",
   "pygments_lexer": "ipython3",
   "version": "3.10.4"
  },
  "orig_nbformat": 4,
  "vscode": {
   "interpreter": {
    "hash": "aee8b7b246df8f9039afb4144a1f6fd8d2ca17a180786b69acc140d282b71a49"
   }
  }
 },
 "nbformat": 4,
 "nbformat_minor": 2
}
