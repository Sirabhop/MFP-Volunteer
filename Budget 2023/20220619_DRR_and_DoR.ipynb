{
  "nbformat": 4,
  "nbformat_minor": 0,
  "metadata": {
    "colab": {
      "name": "20220619_DRR and DoR Spending Budget",
      "provenance": [],
      "collapsed_sections": [],
      "mount_file_id": "1wcqFycIFUaZ4AWKihB1TbypTDJUS-M6F",
      "authorship_tag": "ABX9TyPESQdL6juFfK78Tlgd9ur/",
      "include_colab_link": true
    },
    "kernelspec": {
      "name": "python3",
      "display_name": "Python 3"
    },
    "language_info": {
      "name": "python"
    }
  },
  "cells": [
    {
      "cell_type": "markdown",
      "metadata": {
        "id": "view-in-github",
        "colab_type": "text"
      },
      "source": [
        "<a href=\"https://colab.research.google.com/github/Sirabhop/MFP-Volunteer/blob/main/20220619_DRR_and_DoR.ipynb\" target=\"_parent\"><img src=\"https://colab.research.google.com/assets/colab-badge.svg\" alt=\"Open In Colab\"/></a>"
      ]
    },
    {
      "cell_type": "code",
      "source": [
        "import os\n",
        "import pandas as pd\n",
        "import matplotlib.pyplot as plt\n",
        "import numpy as np\n",
        "import re"
      ],
      "metadata": {
        "id": "o_LPKM7quPAH"
      },
      "execution_count": null,
      "outputs": []
    },
    {
      "cell_type": "code",
      "source": [
        "os.chdir('/content/drive/MyDrive/My Project/MFP_Volunteer/20220619_DRRandDoR')"
      ],
      "metadata": {
        "id": "L-0JK2bhuQvx"
      },
      "execution_count": null,
      "outputs": []
    },
    {
      "cell_type": "code",
      "source": [
        "df = pd.read_excel('/content/drive/MyDrive/My Project/MFP_Volunteer/งบประมาณประเทศไทย 2566 (ฉบับร่างพ.ร.บ.) - PDF to CSV.xlsx', sheet_name = 'RELEASE_22-05-27')"
      ],
      "metadata": {
        "colab": {
          "base_uri": "https://localhost:8080/"
        },
        "id": "TbPyV7B_uTfH",
        "outputId": "e2605eb5-05a3-4e33-8aed-4d24f30ba620"
      },
      "execution_count": null,
      "outputs": [
        {
          "output_type": "stream",
          "name": "stderr",
          "text": [
            "/usr/local/lib/python3.7/dist-packages/openpyxl/worksheet/_reader.py:312: UserWarning: Unknown extension is not supported and will be removed\n",
            "  warn(msg)\n"
          ]
        }
      ]
    },
    {
      "cell_type": "code",
      "source": [
        "df_MoT = df[df['MINISTRY'] == 'กระทรวงคมนาคม']\n",
        "df_MoT.info()"
      ],
      "metadata": {
        "colab": {
          "base_uri": "https://localhost:8080/"
        },
        "id": "V7TlQmetuq1O",
        "outputId": "2a38d7bf-8d32-4047-e7ab-43f47acb36a9"
      },
      "execution_count": null,
      "outputs": [
        {
          "output_type": "stream",
          "name": "stdout",
          "text": [
            "<class 'pandas.core.frame.DataFrame'>\n",
            "Int64Index: 6337 entries, 34001 to 40339\n",
            "Data columns (total 18 columns):\n",
            " #   Column            Non-Null Count  Dtype  \n",
            "---  ------            --------------  -----  \n",
            " 0   REF_DOC           6337 non-null   object \n",
            " 1   REF_PAGE_NO       6337 non-null   float64\n",
            " 2   MINISTRY          6337 non-null   object \n",
            " 3   BUDGETARY_UNIT    6337 non-null   object \n",
            " 4   BUDGET_PLAN       6337 non-null   object \n",
            " 5   CROSS_FUNC?       6337 non-null   bool   \n",
            " 6   PROJECT           3716 non-null   object \n",
            " 7   OUTPUT            2557 non-null   object \n",
            " 8   CATEGORY_LV1      6337 non-null   object \n",
            " 9   CATEGORY_LV2      6191 non-null   object \n",
            " 10  CATEGORY_LV3      5764 non-null   object \n",
            " 11  CATEGORY_LV4      5228 non-null   object \n",
            " 12  CATEGORY_LV5      337 non-null    object \n",
            " 13  CATEGORY_LV6      0 non-null      float64\n",
            " 14  ITEM_DESCRIPTION  6337 non-null   object \n",
            " 15  FISCAL_YEAR       6337 non-null   float64\n",
            " 16  OBLIGED?          6337 non-null   bool   \n",
            " 17  AMOUNT            6337 non-null   float64\n",
            "dtypes: bool(2), float64(4), object(12)\n",
            "memory usage: 854.0+ KB\n"
          ]
        }
      ]
    },
    {
      "cell_type": "code",
      "source": [
        "df_MoT.pivot_table(values = 'AMOUNT', index = 'BUDGETARY_UNIT', aggfunc = sum).sort_values('AMOUNT', ascending = False)"
      ],
      "metadata": {
        "colab": {
          "base_uri": "https://localhost:8080/",
          "height": 332
        },
        "id": "zJr9aQaMu6IN",
        "outputId": "565828ff-1f0a-42f2-91e0-42d29c238378"
      },
      "execution_count": null,
      "outputs": [
        {
          "output_type": "execute_result",
          "data": {
            "text/plain": [
              "                                            AMOUNT\n",
              "BUDGETARY_UNIT                                    \n",
              "กรมทางหลวง                            3.083237e+11\n",
              "กรมทางหลวงชนบท                        6.705369e+10\n",
              "กรมท่าอากาศยาน                        1.777128e+10\n",
              "กรมเจ้าท่า                            9.167995e+09\n",
              "กรมการขนส่งทางบก                      5.137526e+09\n",
              "สำนักงานปลัดกระทรวงคมนาคม             7.828981e+08\n",
              "สำนักงานนโยบายและแผนการขนส่งและจราจร  6.178675e+08\n",
              "กรมการขนส่งทางราง                     1.968107e+08"
            ],
            "text/html": [
              "\n",
              "  <div id=\"df-22b79692-33a1-4852-b54b-197100cf88ee\">\n",
              "    <div class=\"colab-df-container\">\n",
              "      <div>\n",
              "<style scoped>\n",
              "    .dataframe tbody tr th:only-of-type {\n",
              "        vertical-align: middle;\n",
              "    }\n",
              "\n",
              "    .dataframe tbody tr th {\n",
              "        vertical-align: top;\n",
              "    }\n",
              "\n",
              "    .dataframe thead th {\n",
              "        text-align: right;\n",
              "    }\n",
              "</style>\n",
              "<table border=\"1\" class=\"dataframe\">\n",
              "  <thead>\n",
              "    <tr style=\"text-align: right;\">\n",
              "      <th></th>\n",
              "      <th>AMOUNT</th>\n",
              "    </tr>\n",
              "    <tr>\n",
              "      <th>BUDGETARY_UNIT</th>\n",
              "      <th></th>\n",
              "    </tr>\n",
              "  </thead>\n",
              "  <tbody>\n",
              "    <tr>\n",
              "      <th>กรมทางหลวง</th>\n",
              "      <td>3.083237e+11</td>\n",
              "    </tr>\n",
              "    <tr>\n",
              "      <th>กรมทางหลวงชนบท</th>\n",
              "      <td>6.705369e+10</td>\n",
              "    </tr>\n",
              "    <tr>\n",
              "      <th>กรมท่าอากาศยาน</th>\n",
              "      <td>1.777128e+10</td>\n",
              "    </tr>\n",
              "    <tr>\n",
              "      <th>กรมเจ้าท่า</th>\n",
              "      <td>9.167995e+09</td>\n",
              "    </tr>\n",
              "    <tr>\n",
              "      <th>กรมการขนส่งทางบก</th>\n",
              "      <td>5.137526e+09</td>\n",
              "    </tr>\n",
              "    <tr>\n",
              "      <th>สำนักงานปลัดกระทรวงคมนาคม</th>\n",
              "      <td>7.828981e+08</td>\n",
              "    </tr>\n",
              "    <tr>\n",
              "      <th>สำนักงานนโยบายและแผนการขนส่งและจราจร</th>\n",
              "      <td>6.178675e+08</td>\n",
              "    </tr>\n",
              "    <tr>\n",
              "      <th>กรมการขนส่งทางราง</th>\n",
              "      <td>1.968107e+08</td>\n",
              "    </tr>\n",
              "  </tbody>\n",
              "</table>\n",
              "</div>\n",
              "      <button class=\"colab-df-convert\" onclick=\"convertToInteractive('df-22b79692-33a1-4852-b54b-197100cf88ee')\"\n",
              "              title=\"Convert this dataframe to an interactive table.\"\n",
              "              style=\"display:none;\">\n",
              "        \n",
              "  <svg xmlns=\"http://www.w3.org/2000/svg\" height=\"24px\"viewBox=\"0 0 24 24\"\n",
              "       width=\"24px\">\n",
              "    <path d=\"M0 0h24v24H0V0z\" fill=\"none\"/>\n",
              "    <path d=\"M18.56 5.44l.94 2.06.94-2.06 2.06-.94-2.06-.94-.94-2.06-.94 2.06-2.06.94zm-11 1L8.5 8.5l.94-2.06 2.06-.94-2.06-.94L8.5 2.5l-.94 2.06-2.06.94zm10 10l.94 2.06.94-2.06 2.06-.94-2.06-.94-.94-2.06-.94 2.06-2.06.94z\"/><path d=\"M17.41 7.96l-1.37-1.37c-.4-.4-.92-.59-1.43-.59-.52 0-1.04.2-1.43.59L10.3 9.45l-7.72 7.72c-.78.78-.78 2.05 0 2.83L4 21.41c.39.39.9.59 1.41.59.51 0 1.02-.2 1.41-.59l7.78-7.78 2.81-2.81c.8-.78.8-2.07 0-2.86zM5.41 20L4 18.59l7.72-7.72 1.47 1.35L5.41 20z\"/>\n",
              "  </svg>\n",
              "      </button>\n",
              "      \n",
              "  <style>\n",
              "    .colab-df-container {\n",
              "      display:flex;\n",
              "      flex-wrap:wrap;\n",
              "      gap: 12px;\n",
              "    }\n",
              "\n",
              "    .colab-df-convert {\n",
              "      background-color: #E8F0FE;\n",
              "      border: none;\n",
              "      border-radius: 50%;\n",
              "      cursor: pointer;\n",
              "      display: none;\n",
              "      fill: #1967D2;\n",
              "      height: 32px;\n",
              "      padding: 0 0 0 0;\n",
              "      width: 32px;\n",
              "    }\n",
              "\n",
              "    .colab-df-convert:hover {\n",
              "      background-color: #E2EBFA;\n",
              "      box-shadow: 0px 1px 2px rgba(60, 64, 67, 0.3), 0px 1px 3px 1px rgba(60, 64, 67, 0.15);\n",
              "      fill: #174EA6;\n",
              "    }\n",
              "\n",
              "    [theme=dark] .colab-df-convert {\n",
              "      background-color: #3B4455;\n",
              "      fill: #D2E3FC;\n",
              "    }\n",
              "\n",
              "    [theme=dark] .colab-df-convert:hover {\n",
              "      background-color: #434B5C;\n",
              "      box-shadow: 0px 1px 3px 1px rgba(0, 0, 0, 0.15);\n",
              "      filter: drop-shadow(0px 1px 2px rgba(0, 0, 0, 0.3));\n",
              "      fill: #FFFFFF;\n",
              "    }\n",
              "  </style>\n",
              "\n",
              "      <script>\n",
              "        const buttonEl =\n",
              "          document.querySelector('#df-22b79692-33a1-4852-b54b-197100cf88ee button.colab-df-convert');\n",
              "        buttonEl.style.display =\n",
              "          google.colab.kernel.accessAllowed ? 'block' : 'none';\n",
              "\n",
              "        async function convertToInteractive(key) {\n",
              "          const element = document.querySelector('#df-22b79692-33a1-4852-b54b-197100cf88ee');\n",
              "          const dataTable =\n",
              "            await google.colab.kernel.invokeFunction('convertToInteractive',\n",
              "                                                     [key], {});\n",
              "          if (!dataTable) return;\n",
              "\n",
              "          const docLinkHtml = 'Like what you see? Visit the ' +\n",
              "            '<a target=\"_blank\" href=https://colab.research.google.com/notebooks/data_table.ipynb>data table notebook</a>'\n",
              "            + ' to learn more about interactive tables.';\n",
              "          element.innerHTML = '';\n",
              "          dataTable['output_type'] = 'display_data';\n",
              "          await google.colab.output.renderOutput(dataTable, element);\n",
              "          const docLink = document.createElement('div');\n",
              "          docLink.innerHTML = docLinkHtml;\n",
              "          element.appendChild(docLink);\n",
              "        }\n",
              "      </script>\n",
              "    </div>\n",
              "  </div>\n",
              "  "
            ]
          },
          "metadata": {},
          "execution_count": 12
        }
      ]
    },
    {
      "cell_type": "code",
      "source": [
        "df_MoT.groupby('CATEGORY_LV1').sum('AMOUNT').sort_values('AMOUNT', ascending = False)"
      ],
      "metadata": {
        "colab": {
          "base_uri": "https://localhost:8080/",
          "height": 238
        },
        "id": "Ca8QSD7Uvocp",
        "outputId": "a1981ef4-3ae2-4597-ca0a-06b2d07d00e4"
      },
      "execution_count": null,
      "outputs": [
        {
          "output_type": "execute_result",
          "data": {
            "text/plain": [
              "               REF_PAGE_NO  CROSS_FUNC?  CATEGORY_LV6  FISCAL_YEAR  OBLIGED?  \\\n",
              "CATEGORY_LV1                                                                   \n",
              "งบลงทุน          1592906.0         3605           0.0   11348897.0      2482   \n",
              "งบบุคลากร           4852.0            0           0.0      46529.0         0   \n",
              "งบดำเนินงาน        88615.0            0           0.0    1076244.0       209   \n",
              "งบรายจ่ายอื่น      43674.0          111           0.0     323639.0       119   \n",
              "งบเงินอุดหนุน       1440.0            0           0.0      22253.0         0   \n",
              "\n",
              "                     AMOUNT  \n",
              "CATEGORY_LV1                 \n",
              "งบลงทุน        3.957045e+11  \n",
              "งบบุคลากร      9.503594e+09  \n",
              "งบดำเนินงาน    2.496171e+09  \n",
              "งบรายจ่ายอื่น  1.337076e+09  \n",
              "งบเงินอุดหนุน  1.041550e+07  "
            ],
            "text/html": [
              "\n",
              "  <div id=\"df-14d8d4b0-bb55-4a51-ad60-ef57d7577a82\">\n",
              "    <div class=\"colab-df-container\">\n",
              "      <div>\n",
              "<style scoped>\n",
              "    .dataframe tbody tr th:only-of-type {\n",
              "        vertical-align: middle;\n",
              "    }\n",
              "\n",
              "    .dataframe tbody tr th {\n",
              "        vertical-align: top;\n",
              "    }\n",
              "\n",
              "    .dataframe thead th {\n",
              "        text-align: right;\n",
              "    }\n",
              "</style>\n",
              "<table border=\"1\" class=\"dataframe\">\n",
              "  <thead>\n",
              "    <tr style=\"text-align: right;\">\n",
              "      <th></th>\n",
              "      <th>REF_PAGE_NO</th>\n",
              "      <th>CROSS_FUNC?</th>\n",
              "      <th>CATEGORY_LV6</th>\n",
              "      <th>FISCAL_YEAR</th>\n",
              "      <th>OBLIGED?</th>\n",
              "      <th>AMOUNT</th>\n",
              "    </tr>\n",
              "    <tr>\n",
              "      <th>CATEGORY_LV1</th>\n",
              "      <th></th>\n",
              "      <th></th>\n",
              "      <th></th>\n",
              "      <th></th>\n",
              "      <th></th>\n",
              "      <th></th>\n",
              "    </tr>\n",
              "  </thead>\n",
              "  <tbody>\n",
              "    <tr>\n",
              "      <th>งบลงทุน</th>\n",
              "      <td>1592906.0</td>\n",
              "      <td>3605</td>\n",
              "      <td>0.0</td>\n",
              "      <td>11348897.0</td>\n",
              "      <td>2482</td>\n",
              "      <td>3.957045e+11</td>\n",
              "    </tr>\n",
              "    <tr>\n",
              "      <th>งบบุคลากร</th>\n",
              "      <td>4852.0</td>\n",
              "      <td>0</td>\n",
              "      <td>0.0</td>\n",
              "      <td>46529.0</td>\n",
              "      <td>0</td>\n",
              "      <td>9.503594e+09</td>\n",
              "    </tr>\n",
              "    <tr>\n",
              "      <th>งบดำเนินงาน</th>\n",
              "      <td>88615.0</td>\n",
              "      <td>0</td>\n",
              "      <td>0.0</td>\n",
              "      <td>1076244.0</td>\n",
              "      <td>209</td>\n",
              "      <td>2.496171e+09</td>\n",
              "    </tr>\n",
              "    <tr>\n",
              "      <th>งบรายจ่ายอื่น</th>\n",
              "      <td>43674.0</td>\n",
              "      <td>111</td>\n",
              "      <td>0.0</td>\n",
              "      <td>323639.0</td>\n",
              "      <td>119</td>\n",
              "      <td>1.337076e+09</td>\n",
              "    </tr>\n",
              "    <tr>\n",
              "      <th>งบเงินอุดหนุน</th>\n",
              "      <td>1440.0</td>\n",
              "      <td>0</td>\n",
              "      <td>0.0</td>\n",
              "      <td>22253.0</td>\n",
              "      <td>0</td>\n",
              "      <td>1.041550e+07</td>\n",
              "    </tr>\n",
              "  </tbody>\n",
              "</table>\n",
              "</div>\n",
              "      <button class=\"colab-df-convert\" onclick=\"convertToInteractive('df-14d8d4b0-bb55-4a51-ad60-ef57d7577a82')\"\n",
              "              title=\"Convert this dataframe to an interactive table.\"\n",
              "              style=\"display:none;\">\n",
              "        \n",
              "  <svg xmlns=\"http://www.w3.org/2000/svg\" height=\"24px\"viewBox=\"0 0 24 24\"\n",
              "       width=\"24px\">\n",
              "    <path d=\"M0 0h24v24H0V0z\" fill=\"none\"/>\n",
              "    <path d=\"M18.56 5.44l.94 2.06.94-2.06 2.06-.94-2.06-.94-.94-2.06-.94 2.06-2.06.94zm-11 1L8.5 8.5l.94-2.06 2.06-.94-2.06-.94L8.5 2.5l-.94 2.06-2.06.94zm10 10l.94 2.06.94-2.06 2.06-.94-2.06-.94-.94-2.06-.94 2.06-2.06.94z\"/><path d=\"M17.41 7.96l-1.37-1.37c-.4-.4-.92-.59-1.43-.59-.52 0-1.04.2-1.43.59L10.3 9.45l-7.72 7.72c-.78.78-.78 2.05 0 2.83L4 21.41c.39.39.9.59 1.41.59.51 0 1.02-.2 1.41-.59l7.78-7.78 2.81-2.81c.8-.78.8-2.07 0-2.86zM5.41 20L4 18.59l7.72-7.72 1.47 1.35L5.41 20z\"/>\n",
              "  </svg>\n",
              "      </button>\n",
              "      \n",
              "  <style>\n",
              "    .colab-df-container {\n",
              "      display:flex;\n",
              "      flex-wrap:wrap;\n",
              "      gap: 12px;\n",
              "    }\n",
              "\n",
              "    .colab-df-convert {\n",
              "      background-color: #E8F0FE;\n",
              "      border: none;\n",
              "      border-radius: 50%;\n",
              "      cursor: pointer;\n",
              "      display: none;\n",
              "      fill: #1967D2;\n",
              "      height: 32px;\n",
              "      padding: 0 0 0 0;\n",
              "      width: 32px;\n",
              "    }\n",
              "\n",
              "    .colab-df-convert:hover {\n",
              "      background-color: #E2EBFA;\n",
              "      box-shadow: 0px 1px 2px rgba(60, 64, 67, 0.3), 0px 1px 3px 1px rgba(60, 64, 67, 0.15);\n",
              "      fill: #174EA6;\n",
              "    }\n",
              "\n",
              "    [theme=dark] .colab-df-convert {\n",
              "      background-color: #3B4455;\n",
              "      fill: #D2E3FC;\n",
              "    }\n",
              "\n",
              "    [theme=dark] .colab-df-convert:hover {\n",
              "      background-color: #434B5C;\n",
              "      box-shadow: 0px 1px 3px 1px rgba(0, 0, 0, 0.15);\n",
              "      filter: drop-shadow(0px 1px 2px rgba(0, 0, 0, 0.3));\n",
              "      fill: #FFFFFF;\n",
              "    }\n",
              "  </style>\n",
              "\n",
              "      <script>\n",
              "        const buttonEl =\n",
              "          document.querySelector('#df-14d8d4b0-bb55-4a51-ad60-ef57d7577a82 button.colab-df-convert');\n",
              "        buttonEl.style.display =\n",
              "          google.colab.kernel.accessAllowed ? 'block' : 'none';\n",
              "\n",
              "        async function convertToInteractive(key) {\n",
              "          const element = document.querySelector('#df-14d8d4b0-bb55-4a51-ad60-ef57d7577a82');\n",
              "          const dataTable =\n",
              "            await google.colab.kernel.invokeFunction('convertToInteractive',\n",
              "                                                     [key], {});\n",
              "          if (!dataTable) return;\n",
              "\n",
              "          const docLinkHtml = 'Like what you see? Visit the ' +\n",
              "            '<a target=\"_blank\" href=https://colab.research.google.com/notebooks/data_table.ipynb>data table notebook</a>'\n",
              "            + ' to learn more about interactive tables.';\n",
              "          element.innerHTML = '';\n",
              "          dataTable['output_type'] = 'display_data';\n",
              "          await google.colab.output.renderOutput(dataTable, element);\n",
              "          const docLink = document.createElement('div');\n",
              "          docLink.innerHTML = docLinkHtml;\n",
              "          element.appendChild(docLink);\n",
              "        }\n",
              "      </script>\n",
              "    </div>\n",
              "  </div>\n",
              "  "
            ]
          },
          "metadata": {},
          "execution_count": 19
        }
      ]
    },
    {
      "cell_type": "code",
      "source": [
        "df_MoT.pivot_table(index = 'CATEGORY_LV1', columns = 'BUDGETARY_UNIT', values = 'AMOUNT', aggfunc = sum)"
      ],
      "metadata": {
        "colab": {
          "base_uri": "https://localhost:8080/",
          "height": 238
        },
        "id": "djZkvDZlvrYf",
        "outputId": "4ee4145f-763f-412a-bc15-66e32c531aaf"
      },
      "execution_count": null,
      "outputs": [
        {
          "output_type": "execute_result",
          "data": {
            "text/plain": [
              "BUDGETARY_UNIT  กรมการขนส่งทางบก  กรมการขนส่งทางราง    กรมทางหลวง  \\\n",
              "CATEGORY_LV1                                                        \n",
              "งบดำเนินงาน         9.989839e+08         34423600.0  6.154803e+08   \n",
              "งบบุคลากร           1.907514e+09         25935300.0  4.858566e+09   \n",
              "งบรายจ่ายอื่น       2.572190e+07         41624200.0  1.073607e+09   \n",
              "งบลงทุน             2.205306e+09         94436200.0  3.017753e+11   \n",
              "งบเงินอุดหนุน                NaN           391400.0  7.310000e+05   \n",
              "\n",
              "BUDGETARY_UNIT  กรมทางหลวงชนบท  กรมท่าอากาศยาน    กรมเจ้าท่า  \\\n",
              "CATEGORY_LV1                                                   \n",
              "งบดำเนินงาน       1.191017e+08    1.415751e+08  2.357982e+08   \n",
              "งบบุคลากร         1.411418e+09    3.304982e+08  7.040791e+08   \n",
              "งบรายจ่ายอื่น              NaN    2.723750e+07  1.600000e+07   \n",
              "งบลงทุน           6.552257e+10    1.727197e+10  8.205468e+09   \n",
              "งบเงินอุดหนุน     5.966000e+05             NaN  6.649200e+06   \n",
              "\n",
              "BUDGETARY_UNIT  สำนักงานนโยบายและแผนการขนส่งและจราจร  \\\n",
              "CATEGORY_LV1                                           \n",
              "งบดำเนินงาน                               50089800.0   \n",
              "งบบุคลากร                                 95930500.0   \n",
              "งบรายจ่ายอื่น                            108985000.0   \n",
              "งบลงทุน                                  362862200.0   \n",
              "งบเงินอุดหนุน                                    NaN   \n",
              "\n",
              "BUDGETARY_UNIT  สำนักงานปลัดกระทรวงคมนาคม  \n",
              "CATEGORY_LV1                               \n",
              "งบดำเนินงาน                   300718200.0  \n",
              "งบบุคลากร                     169653300.0  \n",
              "งบรายจ่ายอื่น                  43900000.0  \n",
              "งบลงทุน                       266579300.0  \n",
              "งบเงินอุดหนุน                   2047300.0  "
            ],
            "text/html": [
              "\n",
              "  <div id=\"df-a9a7ec6f-de19-4afe-9ebd-37e5913efb03\">\n",
              "    <div class=\"colab-df-container\">\n",
              "      <div>\n",
              "<style scoped>\n",
              "    .dataframe tbody tr th:only-of-type {\n",
              "        vertical-align: middle;\n",
              "    }\n",
              "\n",
              "    .dataframe tbody tr th {\n",
              "        vertical-align: top;\n",
              "    }\n",
              "\n",
              "    .dataframe thead th {\n",
              "        text-align: right;\n",
              "    }\n",
              "</style>\n",
              "<table border=\"1\" class=\"dataframe\">\n",
              "  <thead>\n",
              "    <tr style=\"text-align: right;\">\n",
              "      <th>BUDGETARY_UNIT</th>\n",
              "      <th>กรมการขนส่งทางบก</th>\n",
              "      <th>กรมการขนส่งทางราง</th>\n",
              "      <th>กรมทางหลวง</th>\n",
              "      <th>กรมทางหลวงชนบท</th>\n",
              "      <th>กรมท่าอากาศยาน</th>\n",
              "      <th>กรมเจ้าท่า</th>\n",
              "      <th>สำนักงานนโยบายและแผนการขนส่งและจราจร</th>\n",
              "      <th>สำนักงานปลัดกระทรวงคมนาคม</th>\n",
              "    </tr>\n",
              "    <tr>\n",
              "      <th>CATEGORY_LV1</th>\n",
              "      <th></th>\n",
              "      <th></th>\n",
              "      <th></th>\n",
              "      <th></th>\n",
              "      <th></th>\n",
              "      <th></th>\n",
              "      <th></th>\n",
              "      <th></th>\n",
              "    </tr>\n",
              "  </thead>\n",
              "  <tbody>\n",
              "    <tr>\n",
              "      <th>งบดำเนินงาน</th>\n",
              "      <td>9.989839e+08</td>\n",
              "      <td>34423600.0</td>\n",
              "      <td>6.154803e+08</td>\n",
              "      <td>1.191017e+08</td>\n",
              "      <td>1.415751e+08</td>\n",
              "      <td>2.357982e+08</td>\n",
              "      <td>50089800.0</td>\n",
              "      <td>300718200.0</td>\n",
              "    </tr>\n",
              "    <tr>\n",
              "      <th>งบบุคลากร</th>\n",
              "      <td>1.907514e+09</td>\n",
              "      <td>25935300.0</td>\n",
              "      <td>4.858566e+09</td>\n",
              "      <td>1.411418e+09</td>\n",
              "      <td>3.304982e+08</td>\n",
              "      <td>7.040791e+08</td>\n",
              "      <td>95930500.0</td>\n",
              "      <td>169653300.0</td>\n",
              "    </tr>\n",
              "    <tr>\n",
              "      <th>งบรายจ่ายอื่น</th>\n",
              "      <td>2.572190e+07</td>\n",
              "      <td>41624200.0</td>\n",
              "      <td>1.073607e+09</td>\n",
              "      <td>NaN</td>\n",
              "      <td>2.723750e+07</td>\n",
              "      <td>1.600000e+07</td>\n",
              "      <td>108985000.0</td>\n",
              "      <td>43900000.0</td>\n",
              "    </tr>\n",
              "    <tr>\n",
              "      <th>งบลงทุน</th>\n",
              "      <td>2.205306e+09</td>\n",
              "      <td>94436200.0</td>\n",
              "      <td>3.017753e+11</td>\n",
              "      <td>6.552257e+10</td>\n",
              "      <td>1.727197e+10</td>\n",
              "      <td>8.205468e+09</td>\n",
              "      <td>362862200.0</td>\n",
              "      <td>266579300.0</td>\n",
              "    </tr>\n",
              "    <tr>\n",
              "      <th>งบเงินอุดหนุน</th>\n",
              "      <td>NaN</td>\n",
              "      <td>391400.0</td>\n",
              "      <td>7.310000e+05</td>\n",
              "      <td>5.966000e+05</td>\n",
              "      <td>NaN</td>\n",
              "      <td>6.649200e+06</td>\n",
              "      <td>NaN</td>\n",
              "      <td>2047300.0</td>\n",
              "    </tr>\n",
              "  </tbody>\n",
              "</table>\n",
              "</div>\n",
              "      <button class=\"colab-df-convert\" onclick=\"convertToInteractive('df-a9a7ec6f-de19-4afe-9ebd-37e5913efb03')\"\n",
              "              title=\"Convert this dataframe to an interactive table.\"\n",
              "              style=\"display:none;\">\n",
              "        \n",
              "  <svg xmlns=\"http://www.w3.org/2000/svg\" height=\"24px\"viewBox=\"0 0 24 24\"\n",
              "       width=\"24px\">\n",
              "    <path d=\"M0 0h24v24H0V0z\" fill=\"none\"/>\n",
              "    <path d=\"M18.56 5.44l.94 2.06.94-2.06 2.06-.94-2.06-.94-.94-2.06-.94 2.06-2.06.94zm-11 1L8.5 8.5l.94-2.06 2.06-.94-2.06-.94L8.5 2.5l-.94 2.06-2.06.94zm10 10l.94 2.06.94-2.06 2.06-.94-2.06-.94-.94-2.06-.94 2.06-2.06.94z\"/><path d=\"M17.41 7.96l-1.37-1.37c-.4-.4-.92-.59-1.43-.59-.52 0-1.04.2-1.43.59L10.3 9.45l-7.72 7.72c-.78.78-.78 2.05 0 2.83L4 21.41c.39.39.9.59 1.41.59.51 0 1.02-.2 1.41-.59l7.78-7.78 2.81-2.81c.8-.78.8-2.07 0-2.86zM5.41 20L4 18.59l7.72-7.72 1.47 1.35L5.41 20z\"/>\n",
              "  </svg>\n",
              "      </button>\n",
              "      \n",
              "  <style>\n",
              "    .colab-df-container {\n",
              "      display:flex;\n",
              "      flex-wrap:wrap;\n",
              "      gap: 12px;\n",
              "    }\n",
              "\n",
              "    .colab-df-convert {\n",
              "      background-color: #E8F0FE;\n",
              "      border: none;\n",
              "      border-radius: 50%;\n",
              "      cursor: pointer;\n",
              "      display: none;\n",
              "      fill: #1967D2;\n",
              "      height: 32px;\n",
              "      padding: 0 0 0 0;\n",
              "      width: 32px;\n",
              "    }\n",
              "\n",
              "    .colab-df-convert:hover {\n",
              "      background-color: #E2EBFA;\n",
              "      box-shadow: 0px 1px 2px rgba(60, 64, 67, 0.3), 0px 1px 3px 1px rgba(60, 64, 67, 0.15);\n",
              "      fill: #174EA6;\n",
              "    }\n",
              "\n",
              "    [theme=dark] .colab-df-convert {\n",
              "      background-color: #3B4455;\n",
              "      fill: #D2E3FC;\n",
              "    }\n",
              "\n",
              "    [theme=dark] .colab-df-convert:hover {\n",
              "      background-color: #434B5C;\n",
              "      box-shadow: 0px 1px 3px 1px rgba(0, 0, 0, 0.15);\n",
              "      filter: drop-shadow(0px 1px 2px rgba(0, 0, 0, 0.3));\n",
              "      fill: #FFFFFF;\n",
              "    }\n",
              "  </style>\n",
              "\n",
              "      <script>\n",
              "        const buttonEl =\n",
              "          document.querySelector('#df-a9a7ec6f-de19-4afe-9ebd-37e5913efb03 button.colab-df-convert');\n",
              "        buttonEl.style.display =\n",
              "          google.colab.kernel.accessAllowed ? 'block' : 'none';\n",
              "\n",
              "        async function convertToInteractive(key) {\n",
              "          const element = document.querySelector('#df-a9a7ec6f-de19-4afe-9ebd-37e5913efb03');\n",
              "          const dataTable =\n",
              "            await google.colab.kernel.invokeFunction('convertToInteractive',\n",
              "                                                     [key], {});\n",
              "          if (!dataTable) return;\n",
              "\n",
              "          const docLinkHtml = 'Like what you see? Visit the ' +\n",
              "            '<a target=\"_blank\" href=https://colab.research.google.com/notebooks/data_table.ipynb>data table notebook</a>'\n",
              "            + ' to learn more about interactive tables.';\n",
              "          element.innerHTML = '';\n",
              "          dataTable['output_type'] = 'display_data';\n",
              "          await google.colab.output.renderOutput(dataTable, element);\n",
              "          const docLink = document.createElement('div');\n",
              "          docLink.innerHTML = docLinkHtml;\n",
              "          element.appendChild(docLink);\n",
              "        }\n",
              "      </script>\n",
              "    </div>\n",
              "  </div>\n",
              "  "
            ]
          },
          "metadata": {},
          "execution_count": 24
        }
      ]
    },
    {
      "cell_type": "code",
      "source": [
        "df_MoT_RR = df_MoT[df_MoT['BUDGETARY_UNIT'].isin(['กรมทางหลวง'])]"
      ],
      "metadata": {
        "id": "EDS_59Ei2AYa"
      },
      "execution_count": null,
      "outputs": []
    },
    {
      "cell_type": "code",
      "source": [
        "df_MoT.to_excel('20220619_MoT.xlsx', index=False)"
      ],
      "metadata": {
        "id": "PYAN4Ulqwv0f"
      },
      "execution_count": null,
      "outputs": []
    },
    {
      "cell_type": "code",
      "source": [
        "df_focused = df_MoT_RR[df_MoT_RR['BUDGET_PLAN'] == 'แผนงานบูรณาการพัฒนาด้านคมนาคมและระบบโลจิสติกส์']"
      ],
      "metadata": {
        "id": "VAHvirYi7aQp"
      },
      "execution_count": null,
      "outputs": []
    },
    {
      "cell_type": "markdown",
      "source": [
        "####1. Extract main item"
      ],
      "metadata": {
        "id": "YmjZcRJfzORn"
      }
    },
    {
      "cell_type": "code",
      "source": [
        "df_focused[['MAIN', 'TO_DROP', 'MAIN_2']] = df_focused.ITEM_DESCRIPTION.str.partition()\n",
        "df_focused.info()"
      ],
      "metadata": {
        "colab": {
          "base_uri": "https://localhost:8080/"
        },
        "id": "mFSpJIMy7nEQ",
        "outputId": "925198d4-6a0c-4af9-a4c6-bdbc87a41a46"
      },
      "execution_count": null,
      "outputs": [
        {
          "output_type": "stream",
          "name": "stdout",
          "text": [
            "<class 'pandas.core.frame.DataFrame'>\n",
            "Int64Index: 2314 entries, 35869 to 38182\n",
            "Data columns (total 21 columns):\n",
            " #   Column            Non-Null Count  Dtype  \n",
            "---  ------            --------------  -----  \n",
            " 0   REF_DOC           2314 non-null   object \n",
            " 1   REF_PAGE_NO       2314 non-null   float64\n",
            " 2   MINISTRY          2314 non-null   object \n",
            " 3   BUDGETARY_UNIT    2314 non-null   object \n",
            " 4   BUDGET_PLAN       2314 non-null   object \n",
            " 5   CROSS_FUNC?       2314 non-null   bool   \n",
            " 6   PROJECT           2314 non-null   object \n",
            " 7   OUTPUT            0 non-null      object \n",
            " 8   CATEGORY_LV1      2314 non-null   object \n",
            " 9   CATEGORY_LV2      2228 non-null   object \n",
            " 10  CATEGORY_LV3      2228 non-null   object \n",
            " 11  CATEGORY_LV4      2126 non-null   object \n",
            " 12  CATEGORY_LV5      298 non-null    object \n",
            " 13  CATEGORY_LV6      0 non-null      float64\n",
            " 14  ITEM_DESCRIPTION  2314 non-null   object \n",
            " 15  FISCAL_YEAR       2314 non-null   float64\n",
            " 16  OBLIGED?          2314 non-null   bool   \n",
            " 17  AMOUNT            2314 non-null   float64\n",
            " 18  MAIN              2314 non-null   object \n",
            " 19  TO_DROP           2314 non-null   object \n",
            " 20  MAIN_2            2314 non-null   object \n",
            "dtypes: bool(2), float64(4), object(15)\n",
            "memory usage: 366.1+ KB\n"
          ]
        },
        {
          "output_type": "stream",
          "name": "stderr",
          "text": [
            "/usr/local/lib/python3.7/dist-packages/pandas/core/frame.py:3641: SettingWithCopyWarning: \n",
            "A value is trying to be set on a copy of a slice from a DataFrame.\n",
            "Try using .loc[row_indexer,col_indexer] = value instead\n",
            "\n",
            "See the caveats in the documentation: https://pandas.pydata.org/pandas-docs/stable/user_guide/indexing.html#returning-a-view-versus-a-copy\n",
            "  self[k1] = value[k2]\n"
          ]
        }
      ]
    },
    {
      "cell_type": "code",
      "source": [
        "df_focused.drop(columns = 'TO_DROP', axis = 1, inplace = True)"
      ],
      "metadata": {
        "id": "y-tAJf-eCjZL"
      },
      "execution_count": null,
      "outputs": []
    },
    {
      "cell_type": "markdown",
      "source": [
        "####2. Extract distance"
      ],
      "metadata": {
        "id": "4FZI1rCxzTOF"
      }
    },
    {
      "cell_type": "code",
      "source": [
        "to_extract = df_focused['MAIN_2'].values\n",
        "extracted = []\n",
        "unit = []\n",
        "for i in range(len(to_extract)):\n",
        "  km_index = str(to_extract[i]).find('กม.')\n",
        "  m_index = str(to_extract[i]).find(' ม.')\n",
        "  if km_index != -1:\n",
        "    km = to_extract[i][km_index - 8: km_index]\n",
        "    km = ''.join(re.findall(\"[0-9,.]\", km))\n",
        "    extracted.append(km)\n",
        "    unit.append('km')\n",
        "  elif m_index != -1:\n",
        "    m = to_extract[i][m_index - 8: m_index+1]\n",
        "    m = ''.join(re.findall(\"[0-9,.]\", m))\n",
        "    extracted.append(m)\n",
        "    unit.append('m')\n",
        "  else:\n",
        "    extracted.append(np.NaN)\n",
        "    unit.append(np.NaN)"
      ],
      "metadata": {
        "id": "wSMGW2yz3IFT"
      },
      "execution_count": null,
      "outputs": []
    },
    {
      "cell_type": "code",
      "source": [
        "df_focused['DISTANCE'] = extracted\n",
        "df_focused['UNIT'] = unit"
      ],
      "metadata": {
        "id": "nOCmP-kZ6YRW"
      },
      "execution_count": null,
      "outputs": []
    },
    {
      "cell_type": "code",
      "source": [
        "df_focused['DISTANCE'] = df_focused['DISTANCE'].str.replace(',', '', regex = True)\n",
        "df_focused.loc[df_focused['UNIT'] == 'm', 'DISTANCE'] = df_focused.loc[df_focused['UNIT'] == 'm', 'DISTANCE'].astype(float)/1000"
      ],
      "metadata": {
        "id": "U-UcZm2lzzNi"
      },
      "execution_count": null,
      "outputs": []
    },
    {
      "cell_type": "markdown",
      "source": [
        "####3. Extract province"
      ],
      "metadata": {
        "id": "_qIUwVUQVmSp"
      }
    },
    {
      "cell_type": "code",
      "source": [
        "df_focused.insert(18, 'PROVINCE', np.NaN)\n",
        "#Import province\n",
        "province = pd.read_excel('/content/drive/MyDrive/My Project/MFP_Volunteer/25640531_sc002_.xlsx', usecols = ['ProvinceNameThai', 'RegionName'])\n",
        "province.rename(columns = {'ProvinceNameThai': 'PROVINCE'}, inplace = True)\n",
        "#Type 1: full province\n",
        "province_type1_list = province.PROVINCE.to_list()\n",
        "#Type 2: in case the item_description doesn't contain จังหวัด\n",
        "province_type2_list = []\n",
        "for i in range(len(province_type1_list)):\n",
        "  province_type2_list.append(province_type1_list[i].replace('จังหวัด', ''))\n",
        "for i in range(len(province_type2_list)):\n",
        "  df_focused.loc[df_focused.ITEM_DESCRIPTION.str.contains(province_type2_list[i]), 'PROVINCE'] = province_type1_list[i]"
      ],
      "metadata": {
        "id": "11EWkw-mKpea"
      },
      "execution_count": null,
      "outputs": []
    },
    {
      "cell_type": "markdown",
      "source": [
        "4. Extract road code"
      ],
      "metadata": {
        "id": "-Vrl0iNPmkna"
      }
    },
    {
      "cell_type": "code",
      "source": [
        "def extract_from_specific_word(df, col_to_extract, word, range_):\n",
        "  to_extract = df[col_to_extract].values\n",
        "  extracted = []\n",
        "  for i in range(len(to_extract)):\n",
        "    km_index = str(to_extract[i]).find(word)\n",
        "    if km_index != -1:\n",
        "      km = to_extract[i][km_index: km_index + range_]\n",
        "      km = ''.join(re.findall(\"[0-9]\", km))\n",
        "      extracted.append(km)\n",
        "      \n",
        "    else:\n",
        "      extracted.append(np.NaN)\n",
        "  return extracted"
      ],
      "metadata": {
        "id": "Jr5QUtGAnNvM"
      },
      "execution_count": null,
      "outputs": []
    },
    {
      "cell_type": "code",
      "source": [
        "df_focused['Road'] = extract_from_specific_word(df_focused, 'ITEM_DESCRIPTION', 'ทางหลวงหมายเลข', 20)"
      ],
      "metadata": {
        "id": "ZQ0uYX32o18S"
      },
      "execution_count": null,
      "outputs": []
    },
    {
      "cell_type": "markdown",
      "source": [
        "###Answer the question"
      ],
      "metadata": {
        "id": "AFThLS9LGgMK"
      }
    },
    {
      "cell_type": "markdown",
      "source": [
        "####1. Obliged budget start from 2023"
      ],
      "metadata": {
        "id": "hiEzwz22Gk5o"
      }
    },
    {
      "cell_type": "code",
      "source": [
        "#Get dummies\n",
        "df_focused[['2016','2017','2018','2019','2020','2021','2022','2023','2024','2025']] = pd.get_dummies(df_focused['FISCAL_YEAR'])"
      ],
      "metadata": {
        "id": "1ujm0G0EGj0N"
      },
      "execution_count": null,
      "outputs": []
    },
    {
      "cell_type": "code",
      "source": [
        "df_distinct = df_focused.groupby('ITEM_DESCRIPTION').sum(['2016','2017','2018','2019','2020','2021','2022','2023','2024','2025'])\n",
        "df_distinct = df_distinct.iloc[:, 5:]"
      ],
      "metadata": {
        "id": "lhY33cDNHzq2"
      },
      "execution_count": null,
      "outputs": []
    },
    {
      "cell_type": "markdown",
      "source": [
        "Get the obliged budget start from 2023."
      ],
      "metadata": {
        "id": "8OaySh6JJAiz"
      }
    },
    {
      "cell_type": "code",
      "source": [
        "df_distinct = df_distinct[(df_distinct['2016'] == 0) & \n",
        "                          (df_distinct['2017'] == 0) &\n",
        "                          (df_distinct['2018'] == 0) &\n",
        "                          (df_distinct['2019'] == 0) &\n",
        "                          (df_distinct['2020'] == 0) &\n",
        "                          (df_distinct['2021'] == 0) &\n",
        "                          (df_distinct['2022'] == 0) &\n",
        "                          (df_distinct['2023'] == 1)]\n",
        "df_distinct.reset_index(inplace = True)"
      ],
      "metadata": {
        "id": "wiACForIIcqB"
      },
      "execution_count": null,
      "outputs": []
    },
    {
      "cell_type": "code",
      "source": [
        "df_distinct = df_distinct.merge(df_focused[['ITEM_DESCRIPTION', 'BUDGETARY_UNIT', 'BUDGET_PLAN', \n",
        "                                'PROJECT', 'OBLIGED?', 'CATEGORY_LV1',\n",
        "                                'CATEGORY_LV2', 'CATEGORY_LV3', 'CATEGORY_LV4']],\n",
        "                                how = 'left', on = 'ITEM_DESCRIPTION')"
      ],
      "metadata": {
        "id": "pB3sxpHOJFaI"
      },
      "execution_count": null,
      "outputs": []
    },
    {
      "cell_type": "markdown",
      "source": [
        "For 57% there are free for the future, 43% are holding back in the past."
      ],
      "metadata": {
        "id": "fkDoHeapMLw5"
      }
    },
    {
      "cell_type": "code",
      "source": [
        "sum(df_distinct.AMOUNT)/sum(df_focused.AMOUNT)"
      ],
      "metadata": {
        "colab": {
          "base_uri": "https://localhost:8080/"
        },
        "id": "TbKmK2GVLQtV",
        "outputId": "ac5b7ffc-99cc-41f0-cff9-8f04b7dbe859"
      },
      "execution_count": null,
      "outputs": [
        {
          "output_type": "execute_result",
          "data": {
            "text/plain": [
              "0.5709306575593402"
            ]
          },
          "metadata": {},
          "execution_count": 280
        }
      ]
    },
    {
      "cell_type": "markdown",
      "source": [
        "####4. Export"
      ],
      "metadata": {
        "id": "KJXkYCWvXQR4"
      }
    },
    {
      "cell_type": "code",
      "source": [
        "df_MoT.to_excel('20220619_MoT.xlsx', index=False)"
      ],
      "metadata": {
        "id": "cuEbDoMoXV_t"
      },
      "execution_count": null,
      "outputs": []
    },
    {
      "cell_type": "code",
      "source": [
        "df_MoT_RR.to_excel('20220619_MoT_province.xlsx', index=False)"
      ],
      "metadata": {
        "id": "TNj0ClDqXOVc"
      },
      "execution_count": null,
      "outputs": []
    },
    {
      "cell_type": "code",
      "source": [
        "df_focused.to_excel('20220623_MoT_final_DoR.xlsx', index = False)"
      ],
      "metadata": {
        "id": "Okl900DaXW1K"
      },
      "execution_count": null,
      "outputs": []
    },
    {
      "cell_type": "code",
      "source": [
        "df_distinct.to_excel('20220623_MoT_DoR_2023.xlsx', index = False)"
      ],
      "metadata": {
        "id": "J7InmIWtMnuQ"
      },
      "execution_count": null,
      "outputs": []
    }
  ]
}