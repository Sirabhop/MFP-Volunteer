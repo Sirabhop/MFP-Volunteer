{
  "nbformat": 4,
  "nbformat_minor": 0,
  "metadata": {
    "colab": {
      "name": "20220627_OPS MOPH.ipynb",
      "provenance": [],
      "mount_file_id": "1NzuvI8JF7hoKBwx20etpPC_pj1CMWyZT",
      "authorship_tag": "ABX9TyNe4kk16DdIlNgBD5MCeAjZ",
      "include_colab_link": true
    },
    "kernelspec": {
      "name": "python3",
      "display_name": "Python 3"
    },
    "language_info": {
      "name": "python"
    }
  },
  "cells": [
    {
      "cell_type": "markdown",
      "metadata": {
        "id": "view-in-github",
        "colab_type": "text"
      },
      "source": [
        "<a href=\"https://colab.research.google.com/github/Sirabhop/MFP-Volunteer/blob/main/20220627_OPS_MOPH.ipynb\" target=\"_parent\"><img src=\"https://colab.research.google.com/assets/colab-badge.svg\" alt=\"Open In Colab\"/></a>"
      ]
    },
    {
      "cell_type": "code",
      "source": [
        "import os\n",
        "import numpy as np\n",
        "import pandas as pd\n",
        "import requests"
      ],
      "metadata": {
        "id": "iNq7Pg0WJ3yz"
      },
      "execution_count": null,
      "outputs": []
    },
    {
      "cell_type": "code",
      "source": [
        "os.chdir('/content/drive/MyDrive/My Project/MFP_Volunteer/20220627_OPS_MOPH')"
      ],
      "metadata": {
        "id": "_H1_BJRqJ9A7"
      },
      "execution_count": null,
      "outputs": []
    },
    {
      "cell_type": "code",
      "source": [
        "def track_status(df, col_list):\n",
        "  print('Row:', \"{:,}\".format(len(df.index)), 'and', 'Columns:', \"{:,}\".format(len(df.columns)))\n",
        "  for i in range(len(col_list)):\n",
        "    print(col_list[i]+':', \"{:,}\".format(df[col_list[i]].sum()))"
      ],
      "metadata": {
        "id": "kqF2sNNuKx50"
      },
      "execution_count": null,
      "outputs": []
    },
    {
      "cell_type": "code",
      "source": [
        "df = pd.read_excel('/content/drive/MyDrive/My Project/MFP_Volunteer/budget_df.xlsx', sheet_name = 'raw')"
      ],
      "metadata": {
        "id": "DHmMrEk3KDI1"
      },
      "execution_count": null,
      "outputs": []
    },
    {
      "cell_type": "code",
      "source": [
        "track_status(df, ['AMOUNT'])"
      ],
      "metadata": {
        "colab": {
          "base_uri": "https://localhost:8080/"
        },
        "id": "YSSQnmj5KzOV",
        "outputId": "b03a6da4-57e8-4cd9-e5b2-a03411f29ba0"
      },
      "execution_count": null,
      "outputs": [
        {
          "output_type": "stream",
          "name": "stdout",
          "text": [
            "Row: 22,613 and Columns: 123\n",
            "AMOUNT: 4,171,088,539,728.0\n"
          ]
        }
      ]
    },
    {
      "cell_type": "code",
      "source": [
        "df_moph = df[df['BUDGETARY_UNIT'] == 'สำนักงานปลัดกระทรวงสาธารณสุข']"
      ],
      "metadata": {
        "id": "D93DjW2nKIee"
      },
      "execution_count": null,
      "outputs": []
    },
    {
      "cell_type": "code",
      "source": [
        "track_status(df_moph, ['AMOUNT'])"
      ],
      "metadata": {
        "colab": {
          "base_uri": "https://localhost:8080/"
        },
        "id": "FcFFnsubKYR8",
        "outputId": "aa68622e-1b87-4459-c885-48b9abd68d1f"
      },
      "execution_count": null,
      "outputs": [
        {
          "output_type": "stream",
          "name": "stdout",
          "text": [
            "Row: 1,210 and Columns: 123\n",
            "AMOUNT: 39,836,123,900.0\n"
          ]
        }
      ]
    },
    {
      "cell_type": "code",
      "source": [
        "df_moph.dropna(axis = 1, how = 'all', inplace = True)\n",
        "df_moph.reset_index(drop = True, inplace = True)"
      ],
      "metadata": {
        "id": "RiAHNKAqKZMv",
        "colab": {
          "base_uri": "https://localhost:8080/"
        },
        "outputId": "c364b4ca-b7d2-4a29-8817-98e19719dcbc"
      },
      "execution_count": null,
      "outputs": [
        {
          "output_type": "stream",
          "name": "stderr",
          "text": [
            "/usr/local/lib/python3.7/dist-packages/pandas/util/_decorators.py:311: SettingWithCopyWarning: \n",
            "A value is trying to be set on a copy of a slice from a DataFrame\n",
            "\n",
            "See the caveats in the documentation: https://pandas.pydata.org/pandas-docs/stable/user_guide/indexing.html#returning-a-view-versus-a-copy\n",
            "  return func(*args, **kwargs)\n"
          ]
        }
      ]
    },
    {
      "cell_type": "code",
      "source": [
        "track_status(df_moph, ['AMOUNT'])"
      ],
      "metadata": {
        "colab": {
          "base_uri": "https://localhost:8080/"
        },
        "id": "_JIgNYldLKQv",
        "outputId": "ce85bc8e-2e69-4289-bdb4-ad088591512d"
      },
      "execution_count": null,
      "outputs": [
        {
          "output_type": "stream",
          "name": "stdout",
          "text": [
            "Row: 1,210 and Columns: 35\n",
            "AMOUNT: 39,836,123,900.0\n"
          ]
        }
      ]
    },
    {
      "cell_type": "code",
      "source": [
        "extracted_list = df.ITEM_DESCRIPTION.str.split()"
      ],
      "metadata": {
        "id": "yqWXHxyXz0wl"
      },
      "execution_count": null,
      "outputs": []
    },
    {
      "cell_type": "code",
      "source": [
        "keep = []\n",
        "for i in range(len(extracted_list)):\n",
        "  for text in extracted_list[i]:\n",
        "    if \"โรงพยาบาล\" in text:\n",
        "      df.loc[i, 'HOSPITAL'] = text"
      ],
      "metadata": {
        "id": "Tmo6p0Vb0EgS"
      },
      "execution_count": null,
      "outputs": []
    },
    {
      "cell_type": "code",
      "source": [
        "track_status(df, ['AMOUNT'])"
      ],
      "metadata": {
        "colab": {
          "base_uri": "https://localhost:8080/"
        },
        "id": "rBDcRC8i0oGQ",
        "outputId": "17d1055a-5d7f-4b98-8c92-23c58865d76e"
      },
      "execution_count": null,
      "outputs": [
        {
          "output_type": "stream",
          "name": "stdout",
          "text": [
            "Row: 22,613 and Columns: 124\n",
            "AMOUNT: 4,171,088,539,728.0\n"
          ]
        }
      ]
    },
    {
      "cell_type": "code",
      "source": [
        "df.to_excel('df_add_hospital.xlsx', sheet_name = 'raw', index = False)"
      ],
      "metadata": {
        "id": "Cp00E-peLMgI"
      },
      "execution_count": null,
      "outputs": []
    }
  ]
}