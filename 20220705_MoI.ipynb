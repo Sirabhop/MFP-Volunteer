{
  "nbformat": 4,
  "nbformat_minor": 0,
  "metadata": {
    "colab": {
      "name": "20220705_MoI.ipynb",
      "provenance": [],
      "mount_file_id": "1VrXehYxhrhisPeaNDyy8UBjbXbVgecjv",
      "authorship_tag": "ABX9TyMPGNUPE35GK6OzZ7dXWCIR",
      "include_colab_link": true
    },
    "kernelspec": {
      "name": "python3",
      "display_name": "Python 3"
    },
    "language_info": {
      "name": "python"
    }
  },
  "cells": [
    {
      "cell_type": "markdown",
      "metadata": {
        "id": "view-in-github",
        "colab_type": "text"
      },
      "source": [
        "<a href=\"https://colab.research.google.com/github/Sirabhop/MFP-Volunteer/blob/main/20220705_MoI.ipynb\" target=\"_parent\"><img src=\"https://colab.research.google.com/assets/colab-badge.svg\" alt=\"Open In Colab\"/></a>"
      ]
    },
    {
      "cell_type": "markdown",
      "source": [
        "#Ministry of Interior"
      ],
      "metadata": {
        "id": "WdfxoLzg10nH"
      }
    },
    {
      "cell_type": "markdown",
      "source": [
        "Import neccessary function and library"
      ],
      "metadata": {
        "id": "SMIucD3718sw"
      }
    },
    {
      "cell_type": "code",
      "source": [
        "import os\n",
        "import pandas as pd\n",
        "import matplotlib.pyplot as plt\n",
        "import seaborn as sns\n",
        "import numpy as np\n",
        "import requests\n",
        "import json\n",
        "from IPython.display import clear_output"
      ],
      "metadata": {
        "id": "09hCVTIy2Dmj"
      },
      "execution_count": 1,
      "outputs": []
    },
    {
      "cell_type": "code",
      "source": [
        "os.chdir(\"/content/drive/MyDrive/My Project/MFP_Volunteer/20220705_MoI_DPT and DoPA\")\n",
        "df = pd.read_excel(\"/content/drive/MyDrive/My Project/MFP_Volunteer/budget_df.xlsx\", sheet_name=\"raw\")"
      ],
      "metadata": {
        "id": "LdpfePl72Q_b"
      },
      "execution_count": null,
      "outputs": []
    },
    {
      "cell_type": "code",
      "source": [
        "a = np.array([[1,2],[3,4]])\n",
        "a"
      ],
      "metadata": {
        "colab": {
          "base_uri": "https://localhost:8080/"
        },
        "id": "wypZhhrRHWG-",
        "outputId": "f306c7a8-db62-40fa-96db-e7a1dc33c8d7"
      },
      "execution_count": null,
      "outputs": [
        {
          "output_type": "execute_result",
          "data": {
            "text/plain": [
              "array([[1, 2],\n",
              "       [3, 4]])"
            ]
          },
          "metadata": {},
          "execution_count": 2
        }
      ]
    },
    {
      "cell_type": "code",
      "source": [
        "np.dot(a,a)"
      ],
      "metadata": {
        "colab": {
          "base_uri": "https://localhost:8080/"
        },
        "id": "NRfFjcYNHbsU",
        "outputId": "85ac0a66-65ba-4046-bf44-c56cda16bcdc"
      },
      "execution_count": null,
      "outputs": [
        {
          "output_type": "execute_result",
          "data": {
            "text/plain": [
              "array([[ 7, 10],\n",
              "       [15, 22]])"
            ]
          },
          "metadata": {},
          "execution_count": 5
        }
      ]
    },
    {
      "cell_type": "code",
      "source": [
        ""
      ],
      "metadata": {
        "id": "VLciYLOKHbxP"
      },
      "execution_count": null,
      "outputs": []
    },
    {
      "cell_type": "markdown",
      "source": [
        "####Function"
      ],
      "metadata": {
        "id": "OWf0Pgqx5vbm"
      }
    },
    {
      "cell_type": "code",
      "execution_count": null,
      "metadata": {
        "id": "TVhbb-pU1lf_"
      },
      "outputs": [],
      "source": [
        "#For tracking data\n",
        "def track_status(df, col_list):\n",
        "  print('Row:', \"{:,}\".format(len(df.index)), 'and', 'Columns:', \"{:,}\".format(len(df.columns)))\n",
        "  for i in range(len(col_list)):\n",
        "    print(col_list[i]+':', \"{:,}\".format(df[col_list[i]].sum()))"
      ]
    },
    {
      "cell_type": "markdown",
      "source": [
        "##1. Slicing for specific unit\n",
        "\n",
        "Focus on \n",
        "1. Department of Public Work and Town & Country Planning\n",
        "2. Department of Provincial Administration"
      ],
      "metadata": {
        "id": "egjE46DY2HFE"
      }
    },
    {
      "cell_type": "code",
      "source": [
        "df = df[df['MINISTRY'] == \"กระทรวงมหาดไทย\"]\n",
        "track_status(df, ['AMOUNT'])"
      ],
      "metadata": {
        "colab": {
          "base_uri": "https://localhost:8080/"
        },
        "id": "gUibu2zP2LH7",
        "outputId": "7b158ab8-df3e-4469-ef43-aa31b0b8eab4"
      },
      "execution_count": null,
      "outputs": [
        {
          "output_type": "stream",
          "name": "stdout",
          "text": [
            "Row: 2,479 and Columns: 123\n",
            "AMOUNT: 405,698,900,000.0\n"
          ]
        }
      ]
    },
    {
      "cell_type": "code",
      "source": [
        "df.BUDGETARY_UNIT.unique()"
      ],
      "metadata": {
        "colab": {
          "base_uri": "https://localhost:8080/"
        },
        "id": "CK7lywPv27zt",
        "outputId": "0124308d-7282-4db4-8084-620a0d750db6"
      },
      "execution_count": null,
      "outputs": [
        {
          "output_type": "execute_result",
          "data": {
            "text/plain": [
              "array(['กรมส่งเสริมการปกครองท้องถิ่น', 'กรมโยธาธิการและผังเมือง',\n",
              "       'กรมป้องกันและบรรเทาสาธารณภัย', 'กรมที่ดิน', 'กรมการพัฒนาชุมชน',\n",
              "       'สำนักงานปลัดกระทรวงมหาดไทย', 'กรมการปกครอง'], dtype=object)"
            ]
          },
          "metadata": {},
          "execution_count": 5
        }
      ]
    },
    {
      "cell_type": "code",
      "source": [
        "df_dpt = df[df['BUDGETARY_UNIT'] == 'กรมโยธาธิการและผังเมือง']\n",
        "df_dpt.dropna(axis = 1, how = 'all', inplace = True)\n",
        "df_dpt.reset_index(drop = True, inplace = True)\n",
        "track_status(df_dpt, ['AMOUNT'])"
      ],
      "metadata": {
        "colab": {
          "base_uri": "https://localhost:8080/"
        },
        "id": "eYGjqAaC2n6I",
        "outputId": "ffa59625-845b-415e-ce7a-df4a0a4d2c3d"
      },
      "execution_count": null,
      "outputs": [
        {
          "output_type": "stream",
          "name": "stdout",
          "text": [
            "Row: 1,682 and Columns: 33\n",
            "AMOUNT: 124,846,424,700.0\n"
          ]
        },
        {
          "output_type": "stream",
          "name": "stderr",
          "text": [
            "/usr/local/lib/python3.7/dist-packages/pandas/util/_decorators.py:311: SettingWithCopyWarning: \n",
            "A value is trying to be set on a copy of a slice from a DataFrame\n",
            "\n",
            "See the caveats in the documentation: https://pandas.pydata.org/pandas-docs/stable/user_guide/indexing.html#returning-a-view-versus-a-copy\n",
            "  return func(*args, **kwargs)\n"
          ]
        }
      ]
    },
    {
      "cell_type": "code",
      "source": [
        "track_status(df[df['BUDGETARY_UNIT'] == 'กรมการปกครอง'], ['AMOUNT'])"
      ],
      "metadata": {
        "colab": {
          "base_uri": "https://localhost:8080/"
        },
        "id": "dctHe4aAhEbh",
        "outputId": "7d1fac7f-cc6d-4df9-9d88-394312f744e4"
      },
      "execution_count": null,
      "outputs": [
        {
          "output_type": "stream",
          "name": "stdout",
          "text": [
            "Row: 156 and Columns: 123\n",
            "AMOUNT: 38,591,607,200.0\n"
          ]
        }
      ]
    },
    {
      "cell_type": "code",
      "source": [
        "df_dopa = df[df['BUDGETARY_UNIT'] == 'กรมการปกครอง']\n",
        "df_dopa.dropna(axis = 1, how = 'all', inplace = True)\n",
        "df_dopa.reset_index(drop = True, inplace = True)\n",
        "track_status(df_dopa, ['AMOUNT'])"
      ],
      "metadata": {
        "colab": {
          "base_uri": "https://localhost:8080/"
        },
        "id": "hreg5Sa63UyJ",
        "outputId": "7f8fdc0d-1e65-4acf-9251-569fbaf34f81"
      },
      "execution_count": null,
      "outputs": [
        {
          "output_type": "stream",
          "name": "stdout",
          "text": [
            "Row: 156 and Columns: 29\n",
            "AMOUNT: 38,591,607,200.0\n"
          ]
        },
        {
          "output_type": "stream",
          "name": "stderr",
          "text": [
            "/usr/local/lib/python3.7/dist-packages/pandas/util/_decorators.py:311: SettingWithCopyWarning: \n",
            "A value is trying to be set on a copy of a slice from a DataFrame\n",
            "\n",
            "See the caveats in the documentation: https://pandas.pydata.org/pandas-docs/stable/user_guide/indexing.html#returning-a-view-versus-a-copy\n",
            "  return func(*args, **kwargs)\n"
          ]
        }
      ]
    },
    {
      "cell_type": "markdown",
      "source": [
        "## 2. Department of Public Works and Town & Country Planning"
      ],
      "metadata": {
        "id": "CCjkmtfo4GuW"
      }
    },
    {
      "cell_type": "markdown",
      "source": [
        "Main fous is dam"
      ],
      "metadata": {
        "id": "Aj6rDi3o4iID"
      }
    },
    {
      "cell_type": "code",
      "source": [
        "df_dam = df[df.ITEM_DESCRIPTION.str.contains('เขื่อนป้องกันตลิ่ง') | df.ITEM_DESCRIPTION.str.contains('เขื่อนบ้องกันตลิ่ง')].reset_index(drop = True)"
      ],
      "metadata": {
        "id": "mhv_wPk-4w28"
      },
      "execution_count": null,
      "outputs": []
    },
    {
      "cell_type": "code",
      "source": [
        "df_dam.groupby(\"MAIN\").BUDGETARY_UNIT.nunique().sort_values(ascending = False)"
      ],
      "metadata": {
        "colab": {
          "base_uri": "https://localhost:8080/"
        },
        "id": "g6_UCM623jOj",
        "outputId": "c4c5795b-ae48-41f9-fa90-9102ae7a8ce9"
      },
      "execution_count": null,
      "outputs": [
        {
          "output_type": "execute_result",
          "data": {
            "text/plain": [
              "MAIN\n",
              "การก่อสร้างเขื่อนป้องกันตลิ่งริมแม่น้ำโก-ลก                    1\n",
              "เขื่อนป้องกันตลิ่งริมแม่น้ำตาปี                                1\n",
              "เขื่อนป้องกันตลิ่งริมแม่น้ำท่าตะเภา                            1\n",
              "เขื่อนป้องกันตลิ่งริมแม่น้ำท่าจีนหมู่ที่                       1\n",
              "เขื่อนป้องกันตลิ่งริมแม่น้ำท่าจีน                              1\n",
              "                                                              ..\n",
              "เขื่อนป้องกันตลิ่งริมคลองภูมี                                  1\n",
              "เขื่อนป้องกันตลิ่งริมคลองภาษีเจริญ                             1\n",
              "เขื่อนป้องกันตลิ่งริมคลองพิกุลหมู่ที่                          1\n",
              "เขื่อนป้องกันตลิ่งริมคลองพังงา                                 1\n",
              "โครงการซ่อมแซมเขื่อนป้องกันตลิ่งริมแม่น้ำโขงบริเวณแก่งกะเบา    1\n",
              "Name: BUDGETARY_UNIT, Length: 405, dtype: int64"
            ]
          },
          "metadata": {},
          "execution_count": 40
        }
      ]
    },
    {
      "cell_type": "code",
      "source": [
        "df_dam = df_dam[df_dam['MINISTRY'] != 'กระทรวงคมนาคม']\n",
        "df_dam = df_dam[df_dam. != 'กระทรวงคมนาคม']"
      ],
      "metadata": {
        "id": "0N6TrabQEkm7"
      },
      "execution_count": null,
      "outputs": []
    },
    {
      "cell_type": "code",
      "source": [
        "df_dam.dropna(axis = 1, how = 'all', inplace = True)"
      ],
      "metadata": {
        "id": "8AR8G0QrFASo"
      },
      "execution_count": null,
      "outputs": []
    },
    {
      "cell_type": "code",
      "source": [
        "df_dam.to_excel(\"df_dam.xlsx\", sheet_name = 'raw', index = False)"
      ],
      "metadata": {
        "id": "_IOoNn2nEbHd"
      },
      "execution_count": null,
      "outputs": []
    },
    {
      "cell_type": "code",
      "source": [
        "'สำนักงานปลัดกระทรวงสาธารณสุข' 'สำนักงานคณะกรรมการการศึกษาขั้นพื้นฐาน' 'สถาบันวิจัยดาราศาสตร์แห่งชาติ (องค์การมหาชน)', \n",
        "'มหาวิทยาลัยเทคโนโลยีสุรนารี' 'จังหวัดเพชรบุรี' 'จังหวัดลพบุรี', 'จังหวัดสุพรรณบุรี', 'กลุ่มจังหวัดภาคตะวันออก 2', 'กรมทรัพยากรน้ำ',\n",
        "'กรมทรัพยากรน้ำ'\n"
      ],
      "metadata": {
        "id": "A2NBlHKCEdBb"
      },
      "execution_count": null,
      "outputs": []
    },
    {
      "cell_type": "code",
      "source": [
        "'ช่อมสร้างผิวทางแอสฟัลต์คอนกรีต', 'ขุดลอกแม่น้ำตากแดด', 'ขยายช่องจราจรจาก', 'ช่อมสร้างถนนลาดยางแอสฟัลคอนกรีต', 'ก่อสร้างสะพานคนเดิน', \n",
        "'ขยายทางจราจร', 'ปรับปรุงทางหลวงเพื่อสนับสนุนแหล่งท่องเที่ยววัดพิกุลทอง', 'ค่าจ้างปรับปรุงโครงการไฟฟ้าพลังน้ำห้วยประทาว', 'รถบรรทุก', 'ขยายระบบท่อสงน้ำสายปราณบุรี'\n",
        "'ขุดลอกโดยรถขุดดำเนินการเอง', 'ค่าศึกษา', 'ถนนยางพาราแอสฟัลท์ติกคอนกรีตคลองสาย', 'ระบบท่อสงน้ำและอาคารประกอบพร้อมส่วนประกอบอื่น', 'อาคารป้องกันตลิ่งแม่น้ำเพชรบุรี', \n",
        "'อาคารท่อระบายน้ำลงลำน้ำเดิมและอาคารประกอบ', 'สถานีสูบน้ำและอาคารประกอบ', 'ป้องกันการกัดเชาะตลิ่งในลำน้ำสรวย', 'ปรับปรุงระบบส่งน้ำฝั่งขวา', 'ปรับปรุงระบบส่งน้ำฝั่งช้าย'"
      ],
      "metadata": {
        "id": "GEMeNG-RHjPu"
      },
      "execution_count": null,
      "outputs": []
    },
    {
      "cell_type": "markdown",
      "source": [
        "#3. Department of Provincial Administration"
      ],
      "metadata": {
        "id": "nkf0YLPzLdJ3"
      }
    },
    {
      "cell_type": "code",
      "source": [
        "df_personel = df[df.MAIN.str.contains('ค่าตอบแทน')].groupby('BUDGETARY_UNIT')[['AMOUNT', 2023]].sum().sort_values(by = 'AMOUNT', ascending = False)"
      ],
      "metadata": {
        "id": "rC51VYw9-LLA"
      },
      "execution_count": null,
      "outputs": []
    },
    {
      "cell_type": "code",
      "source": [
        "df_personel.reset_index(inplace = True)"
      ],
      "metadata": {
        "id": "hLp5OMU9_ezv"
      },
      "execution_count": null,
      "outputs": []
    },
    {
      "cell_type": "code",
      "source": [
        "df_personel[df_personel['AMOUNT'] != df_personel[2023]]"
      ],
      "metadata": {
        "colab": {
          "base_uri": "https://localhost:8080/",
          "height": 49
        },
        "id": "1JekXhvMBEda",
        "outputId": "9d35cd44-0c4f-4cc8-c043-aa8da70e208b"
      },
      "execution_count": null,
      "outputs": [
        {
          "output_type": "execute_result",
          "data": {
            "text/plain": [
              "Empty DataFrame\n",
              "Columns: [BUDGETARY_UNIT, AMOUNT, 2023]\n",
              "Index: []"
            ],
            "text/html": [
              "\n",
              "  <div id=\"df-b0ed2934-6e93-478f-afd3-8b25a58e3dd6\">\n",
              "    <div class=\"colab-df-container\">\n",
              "      <div>\n",
              "<style scoped>\n",
              "    .dataframe tbody tr th:only-of-type {\n",
              "        vertical-align: middle;\n",
              "    }\n",
              "\n",
              "    .dataframe tbody tr th {\n",
              "        vertical-align: top;\n",
              "    }\n",
              "\n",
              "    .dataframe thead th {\n",
              "        text-align: right;\n",
              "    }\n",
              "</style>\n",
              "<table border=\"1\" class=\"dataframe\">\n",
              "  <thead>\n",
              "    <tr style=\"text-align: right;\">\n",
              "      <th></th>\n",
              "      <th>BUDGETARY_UNIT</th>\n",
              "      <th>AMOUNT</th>\n",
              "      <th>2023</th>\n",
              "    </tr>\n",
              "  </thead>\n",
              "  <tbody>\n",
              "  </tbody>\n",
              "</table>\n",
              "</div>\n",
              "      <button class=\"colab-df-convert\" onclick=\"convertToInteractive('df-b0ed2934-6e93-478f-afd3-8b25a58e3dd6')\"\n",
              "              title=\"Convert this dataframe to an interactive table.\"\n",
              "              style=\"display:none;\">\n",
              "        \n",
              "  <svg xmlns=\"http://www.w3.org/2000/svg\" height=\"24px\"viewBox=\"0 0 24 24\"\n",
              "       width=\"24px\">\n",
              "    <path d=\"M0 0h24v24H0V0z\" fill=\"none\"/>\n",
              "    <path d=\"M18.56 5.44l.94 2.06.94-2.06 2.06-.94-2.06-.94-.94-2.06-.94 2.06-2.06.94zm-11 1L8.5 8.5l.94-2.06 2.06-.94-2.06-.94L8.5 2.5l-.94 2.06-2.06.94zm10 10l.94 2.06.94-2.06 2.06-.94-2.06-.94-.94-2.06-.94 2.06-2.06.94z\"/><path d=\"M17.41 7.96l-1.37-1.37c-.4-.4-.92-.59-1.43-.59-.52 0-1.04.2-1.43.59L10.3 9.45l-7.72 7.72c-.78.78-.78 2.05 0 2.83L4 21.41c.39.39.9.59 1.41.59.51 0 1.02-.2 1.41-.59l7.78-7.78 2.81-2.81c.8-.78.8-2.07 0-2.86zM5.41 20L4 18.59l7.72-7.72 1.47 1.35L5.41 20z\"/>\n",
              "  </svg>\n",
              "      </button>\n",
              "      \n",
              "  <style>\n",
              "    .colab-df-container {\n",
              "      display:flex;\n",
              "      flex-wrap:wrap;\n",
              "      gap: 12px;\n",
              "    }\n",
              "\n",
              "    .colab-df-convert {\n",
              "      background-color: #E8F0FE;\n",
              "      border: none;\n",
              "      border-radius: 50%;\n",
              "      cursor: pointer;\n",
              "      display: none;\n",
              "      fill: #1967D2;\n",
              "      height: 32px;\n",
              "      padding: 0 0 0 0;\n",
              "      width: 32px;\n",
              "    }\n",
              "\n",
              "    .colab-df-convert:hover {\n",
              "      background-color: #E2EBFA;\n",
              "      box-shadow: 0px 1px 2px rgba(60, 64, 67, 0.3), 0px 1px 3px 1px rgba(60, 64, 67, 0.15);\n",
              "      fill: #174EA6;\n",
              "    }\n",
              "\n",
              "    [theme=dark] .colab-df-convert {\n",
              "      background-color: #3B4455;\n",
              "      fill: #D2E3FC;\n",
              "    }\n",
              "\n",
              "    [theme=dark] .colab-df-convert:hover {\n",
              "      background-color: #434B5C;\n",
              "      box-shadow: 0px 1px 3px 1px rgba(0, 0, 0, 0.15);\n",
              "      filter: drop-shadow(0px 1px 2px rgba(0, 0, 0, 0.3));\n",
              "      fill: #FFFFFF;\n",
              "    }\n",
              "  </style>\n",
              "\n",
              "      <script>\n",
              "        const buttonEl =\n",
              "          document.querySelector('#df-b0ed2934-6e93-478f-afd3-8b25a58e3dd6 button.colab-df-convert');\n",
              "        buttonEl.style.display =\n",
              "          google.colab.kernel.accessAllowed ? 'block' : 'none';\n",
              "\n",
              "        async function convertToInteractive(key) {\n",
              "          const element = document.querySelector('#df-b0ed2934-6e93-478f-afd3-8b25a58e3dd6');\n",
              "          const dataTable =\n",
              "            await google.colab.kernel.invokeFunction('convertToInteractive',\n",
              "                                                     [key], {});\n",
              "          if (!dataTable) return;\n",
              "\n",
              "          const docLinkHtml = 'Like what you see? Visit the ' +\n",
              "            '<a target=\"_blank\" href=https://colab.research.google.com/notebooks/data_table.ipynb>data table notebook</a>'\n",
              "            + ' to learn more about interactive tables.';\n",
              "          element.innerHTML = '';\n",
              "          dataTable['output_type'] = 'display_data';\n",
              "          await google.colab.output.renderOutput(dataTable, element);\n",
              "          const docLink = document.createElement('div');\n",
              "          docLink.innerHTML = docLinkHtml;\n",
              "          element.appendChild(docLink);\n",
              "        }\n",
              "      </script>\n",
              "    </div>\n",
              "  </div>\n",
              "  "
            ]
          },
          "metadata": {},
          "execution_count": 46
        }
      ]
    },
    {
      "cell_type": "code",
      "source": [
        "df[df['CATEGORY_LV1'] == 'งบบุคลากร'].groupby(['BUDGETARY_UNIT']).sum().sort_values(by = 'AMOUNT', ascending = False)"
      ],
      "metadata": {
        "colab": {
          "base_uri": "https://localhost:8080/",
          "height": 236
        },
        "id": "lxJIwtyZ94Dz",
        "outputId": "2a789865-6b40-4141-97ef-19f8715625f6"
      },
      "execution_count": null,
      "outputs": [
        {
          "output_type": "execute_result",
          "data": {
            "text/plain": [
              "                                    1967  1968  1969  1970  1971  1972  1973  \\\n",
              "BUDGETARY_UNIT                                                                 \n",
              "สำนักงานปลัดสำนักนายกรัฐมนตรี        0.0   0.0   0.0   0.0   0.0   0.0   0.0   \n",
              "สำนักงานคณะกรรมการข้าราชการพลเรือน   0.0   0.0   0.0   0.0   0.0   0.0   0.0   \n",
              "สำนักงานนโยบายและยุทธศาสตร์การค้า    0.0   0.0   0.0   0.0   0.0   0.0   0.0   \n",
              "สำนักงานปลัดกระทรวงแรงงาน            0.0   0.0   0.0   0.0   0.0   0.0   0.0   \n",
              "\n",
              "                                    1974  1975  1976  ...  2065  2066  \\\n",
              "BUDGETARY_UNIT                                        ...               \n",
              "สำนักงานปลัดสำนักนายกรัฐมนตรี        0.0   0.0   0.0  ...   0.0   0.0   \n",
              "สำนักงานคณะกรรมการข้าราชการพลเรือน   0.0   0.0   0.0  ...   0.0   0.0   \n",
              "สำนักงานนโยบายและยุทธศาสตร์การค้า    0.0   0.0   0.0  ...   0.0   0.0   \n",
              "สำนักงานปลัดกระทรวงแรงงาน            0.0   0.0   0.0  ...   0.0   0.0   \n",
              "\n",
              "                                          AMOUNT  REF_PAGE_NO  CROSS_FUNC?  \\\n",
              "BUDGETARY_UNIT                                                               \n",
              "สำนักงานปลัดสำนักนายกรัฐมนตรี       6.068357e+11          102            0   \n",
              "สำนักงานคณะกรรมการข้าราชการพลเรือน  1.610895e+09          172            0   \n",
              "สำนักงานนโยบายและยุทธศาสตร์การค้า   5.121680e+07          354            0   \n",
              "สำนักงานปลัดกระทรวงแรงงาน           4.232700e+07          310            0   \n",
              "\n",
              "                                    CATEGORY_LV6  OBLIGED?  START   END  \\\n",
              "BUDGETARY_UNIT                                                            \n",
              "สำนักงานปลัดสำนักนายกรัฐมนตรี                0.0         0   6069  6069   \n",
              "สำนักงานคณะกรรมการข้าราชการพลเรือน           0.0         0   2023  2023   \n",
              "สำนักงานนโยบายและยุทธศาสตร์การค้า            0.0         0   2023  2023   \n",
              "สำนักงานปลัดกระทรวงแรงงาน                    0.0         0   2023  2023   \n",
              "\n",
              "                                    DURATION  \n",
              "BUDGETARY_UNIT                                \n",
              "สำนักงานปลัดสำนักนายกรัฐมนตรี              0  \n",
              "สำนักงานคณะกรรมการข้าราชการพลเรือน         0  \n",
              "สำนักงานนโยบายและยุทธศาสตร์การค้า          0  \n",
              "สำนักงานปลัดกระทรวงแรงงาน                  0  \n",
              "\n",
              "[4 rows x 108 columns]"
            ],
            "text/html": [
              "\n",
              "  <div id=\"df-2ad495fc-1009-41d4-b518-eb2a3df74bfa\">\n",
              "    <div class=\"colab-df-container\">\n",
              "      <div>\n",
              "<style scoped>\n",
              "    .dataframe tbody tr th:only-of-type {\n",
              "        vertical-align: middle;\n",
              "    }\n",
              "\n",
              "    .dataframe tbody tr th {\n",
              "        vertical-align: top;\n",
              "    }\n",
              "\n",
              "    .dataframe thead th {\n",
              "        text-align: right;\n",
              "    }\n",
              "</style>\n",
              "<table border=\"1\" class=\"dataframe\">\n",
              "  <thead>\n",
              "    <tr style=\"text-align: right;\">\n",
              "      <th></th>\n",
              "      <th>1967</th>\n",
              "      <th>1968</th>\n",
              "      <th>1969</th>\n",
              "      <th>1970</th>\n",
              "      <th>1971</th>\n",
              "      <th>1972</th>\n",
              "      <th>1973</th>\n",
              "      <th>1974</th>\n",
              "      <th>1975</th>\n",
              "      <th>1976</th>\n",
              "      <th>...</th>\n",
              "      <th>2065</th>\n",
              "      <th>2066</th>\n",
              "      <th>AMOUNT</th>\n",
              "      <th>REF_PAGE_NO</th>\n",
              "      <th>CROSS_FUNC?</th>\n",
              "      <th>CATEGORY_LV6</th>\n",
              "      <th>OBLIGED?</th>\n",
              "      <th>START</th>\n",
              "      <th>END</th>\n",
              "      <th>DURATION</th>\n",
              "    </tr>\n",
              "    <tr>\n",
              "      <th>BUDGETARY_UNIT</th>\n",
              "      <th></th>\n",
              "      <th></th>\n",
              "      <th></th>\n",
              "      <th></th>\n",
              "      <th></th>\n",
              "      <th></th>\n",
              "      <th></th>\n",
              "      <th></th>\n",
              "      <th></th>\n",
              "      <th></th>\n",
              "      <th></th>\n",
              "      <th></th>\n",
              "      <th></th>\n",
              "      <th></th>\n",
              "      <th></th>\n",
              "      <th></th>\n",
              "      <th></th>\n",
              "      <th></th>\n",
              "      <th></th>\n",
              "      <th></th>\n",
              "      <th></th>\n",
              "    </tr>\n",
              "  </thead>\n",
              "  <tbody>\n",
              "    <tr>\n",
              "      <th>สำนักงานปลัดสำนักนายกรัฐมนตรี</th>\n",
              "      <td>0.0</td>\n",
              "      <td>0.0</td>\n",
              "      <td>0.0</td>\n",
              "      <td>0.0</td>\n",
              "      <td>0.0</td>\n",
              "      <td>0.0</td>\n",
              "      <td>0.0</td>\n",
              "      <td>0.0</td>\n",
              "      <td>0.0</td>\n",
              "      <td>0.0</td>\n",
              "      <td>...</td>\n",
              "      <td>0.0</td>\n",
              "      <td>0.0</td>\n",
              "      <td>6.068357e+11</td>\n",
              "      <td>102</td>\n",
              "      <td>0</td>\n",
              "      <td>0.0</td>\n",
              "      <td>0</td>\n",
              "      <td>6069</td>\n",
              "      <td>6069</td>\n",
              "      <td>0</td>\n",
              "    </tr>\n",
              "    <tr>\n",
              "      <th>สำนักงานคณะกรรมการข้าราชการพลเรือน</th>\n",
              "      <td>0.0</td>\n",
              "      <td>0.0</td>\n",
              "      <td>0.0</td>\n",
              "      <td>0.0</td>\n",
              "      <td>0.0</td>\n",
              "      <td>0.0</td>\n",
              "      <td>0.0</td>\n",
              "      <td>0.0</td>\n",
              "      <td>0.0</td>\n",
              "      <td>0.0</td>\n",
              "      <td>...</td>\n",
              "      <td>0.0</td>\n",
              "      <td>0.0</td>\n",
              "      <td>1.610895e+09</td>\n",
              "      <td>172</td>\n",
              "      <td>0</td>\n",
              "      <td>0.0</td>\n",
              "      <td>0</td>\n",
              "      <td>2023</td>\n",
              "      <td>2023</td>\n",
              "      <td>0</td>\n",
              "    </tr>\n",
              "    <tr>\n",
              "      <th>สำนักงานนโยบายและยุทธศาสตร์การค้า</th>\n",
              "      <td>0.0</td>\n",
              "      <td>0.0</td>\n",
              "      <td>0.0</td>\n",
              "      <td>0.0</td>\n",
              "      <td>0.0</td>\n",
              "      <td>0.0</td>\n",
              "      <td>0.0</td>\n",
              "      <td>0.0</td>\n",
              "      <td>0.0</td>\n",
              "      <td>0.0</td>\n",
              "      <td>...</td>\n",
              "      <td>0.0</td>\n",
              "      <td>0.0</td>\n",
              "      <td>5.121680e+07</td>\n",
              "      <td>354</td>\n",
              "      <td>0</td>\n",
              "      <td>0.0</td>\n",
              "      <td>0</td>\n",
              "      <td>2023</td>\n",
              "      <td>2023</td>\n",
              "      <td>0</td>\n",
              "    </tr>\n",
              "    <tr>\n",
              "      <th>สำนักงานปลัดกระทรวงแรงงาน</th>\n",
              "      <td>0.0</td>\n",
              "      <td>0.0</td>\n",
              "      <td>0.0</td>\n",
              "      <td>0.0</td>\n",
              "      <td>0.0</td>\n",
              "      <td>0.0</td>\n",
              "      <td>0.0</td>\n",
              "      <td>0.0</td>\n",
              "      <td>0.0</td>\n",
              "      <td>0.0</td>\n",
              "      <td>...</td>\n",
              "      <td>0.0</td>\n",
              "      <td>0.0</td>\n",
              "      <td>4.232700e+07</td>\n",
              "      <td>310</td>\n",
              "      <td>0</td>\n",
              "      <td>0.0</td>\n",
              "      <td>0</td>\n",
              "      <td>2023</td>\n",
              "      <td>2023</td>\n",
              "      <td>0</td>\n",
              "    </tr>\n",
              "  </tbody>\n",
              "</table>\n",
              "<p>4 rows × 108 columns</p>\n",
              "</div>\n",
              "      <button class=\"colab-df-convert\" onclick=\"convertToInteractive('df-2ad495fc-1009-41d4-b518-eb2a3df74bfa')\"\n",
              "              title=\"Convert this dataframe to an interactive table.\"\n",
              "              style=\"display:none;\">\n",
              "        \n",
              "  <svg xmlns=\"http://www.w3.org/2000/svg\" height=\"24px\"viewBox=\"0 0 24 24\"\n",
              "       width=\"24px\">\n",
              "    <path d=\"M0 0h24v24H0V0z\" fill=\"none\"/>\n",
              "    <path d=\"M18.56 5.44l.94 2.06.94-2.06 2.06-.94-2.06-.94-.94-2.06-.94 2.06-2.06.94zm-11 1L8.5 8.5l.94-2.06 2.06-.94-2.06-.94L8.5 2.5l-.94 2.06-2.06.94zm10 10l.94 2.06.94-2.06 2.06-.94-2.06-.94-.94-2.06-.94 2.06-2.06.94z\"/><path d=\"M17.41 7.96l-1.37-1.37c-.4-.4-.92-.59-1.43-.59-.52 0-1.04.2-1.43.59L10.3 9.45l-7.72 7.72c-.78.78-.78 2.05 0 2.83L4 21.41c.39.39.9.59 1.41.59.51 0 1.02-.2 1.41-.59l7.78-7.78 2.81-2.81c.8-.78.8-2.07 0-2.86zM5.41 20L4 18.59l7.72-7.72 1.47 1.35L5.41 20z\"/>\n",
              "  </svg>\n",
              "      </button>\n",
              "      \n",
              "  <style>\n",
              "    .colab-df-container {\n",
              "      display:flex;\n",
              "      flex-wrap:wrap;\n",
              "      gap: 12px;\n",
              "    }\n",
              "\n",
              "    .colab-df-convert {\n",
              "      background-color: #E8F0FE;\n",
              "      border: none;\n",
              "      border-radius: 50%;\n",
              "      cursor: pointer;\n",
              "      display: none;\n",
              "      fill: #1967D2;\n",
              "      height: 32px;\n",
              "      padding: 0 0 0 0;\n",
              "      width: 32px;\n",
              "    }\n",
              "\n",
              "    .colab-df-convert:hover {\n",
              "      background-color: #E2EBFA;\n",
              "      box-shadow: 0px 1px 2px rgba(60, 64, 67, 0.3), 0px 1px 3px 1px rgba(60, 64, 67, 0.15);\n",
              "      fill: #174EA6;\n",
              "    }\n",
              "\n",
              "    [theme=dark] .colab-df-convert {\n",
              "      background-color: #3B4455;\n",
              "      fill: #D2E3FC;\n",
              "    }\n",
              "\n",
              "    [theme=dark] .colab-df-convert:hover {\n",
              "      background-color: #434B5C;\n",
              "      box-shadow: 0px 1px 3px 1px rgba(0, 0, 0, 0.15);\n",
              "      filter: drop-shadow(0px 1px 2px rgba(0, 0, 0, 0.3));\n",
              "      fill: #FFFFFF;\n",
              "    }\n",
              "  </style>\n",
              "\n",
              "      <script>\n",
              "        const buttonEl =\n",
              "          document.querySelector('#df-2ad495fc-1009-41d4-b518-eb2a3df74bfa button.colab-df-convert');\n",
              "        buttonEl.style.display =\n",
              "          google.colab.kernel.accessAllowed ? 'block' : 'none';\n",
              "\n",
              "        async function convertToInteractive(key) {\n",
              "          const element = document.querySelector('#df-2ad495fc-1009-41d4-b518-eb2a3df74bfa');\n",
              "          const dataTable =\n",
              "            await google.colab.kernel.invokeFunction('convertToInteractive',\n",
              "                                                     [key], {});\n",
              "          if (!dataTable) return;\n",
              "\n",
              "          const docLinkHtml = 'Like what you see? Visit the ' +\n",
              "            '<a target=\"_blank\" href=https://colab.research.google.com/notebooks/data_table.ipynb>data table notebook</a>'\n",
              "            + ' to learn more about interactive tables.';\n",
              "          element.innerHTML = '';\n",
              "          dataTable['output_type'] = 'display_data';\n",
              "          await google.colab.output.renderOutput(dataTable, element);\n",
              "          const docLink = document.createElement('div');\n",
              "          docLink.innerHTML = docLinkHtml;\n",
              "          element.appendChild(docLink);\n",
              "        }\n",
              "      </script>\n",
              "    </div>\n",
              "  </div>\n",
              "  "
            ]
          },
          "metadata": {},
          "execution_count": 7
        }
      ]
    },
    {
      "cell_type": "code",
      "source": [
        "df_dopa['DURATION'] = df_dopa['DURATION']+1"
      ],
      "metadata": {
        "id": "WUBtMV4CLbaF"
      },
      "execution_count": null,
      "outputs": []
    },
    {
      "cell_type": "code",
      "source": [
        "df_dopa.groupby(['MAIN', 'PROVINCE'])[['AMOUNT']].sum().sort_values(by = 'AMOUNT', ascending = False)"
      ],
      "metadata": {
        "colab": {
          "base_uri": "https://localhost:8080/",
          "height": 1000
        },
        "id": "x6wTQ_g_L75j",
        "outputId": "9887d35f-795e-4efb-b014-a3426258f2e2"
      },
      "execution_count": null,
      "outputs": [
        {
          "output_type": "execute_result",
          "data": {
            "text/plain": [
              "                                                                                AMOUNT\n",
              "MAIN                                               PROVINCE                           \n",
              "ระบบเสื่อสารวิทยุเฉพาะกิจ                          กรุงเทพมหานคร           787333800.0\n",
              "พัฒนาระบบบริหารจัดการภาครัฐเพื่อรักษาความสงบเรี... กรุงเทพมหานคร           370524700.0\n",
              "ระบบคอมพิวเตอร์แเละอุปกรณ์เพื่อทดแทนระบบการบูรณ... จังหวัดปทุมธานี          86002000.0\n",
              "ค่าก่อสร้างศูนย์บริการภาครัฐแบบเบ็ดเสร็จอำเภอเม... จังหวัดนนทบุรี           83000000.0\n",
              "ระบบฐานข้อมูลหัวกระสุนปืนและปลอกกระสุนปืน          จังหวัดราชบุรี           82851000.0\n",
              "                                                   จังหวัดพิษณุโลก          82751100.0\n",
              "                                                   จังหวัดสุราษฎร์ธานี      82751100.0\n",
              "ค่าก่อสร้างอาคารปฏิบัติการทางยุทธวิธีสิบสวนสอบสวน  จังหวัดลพบุรี            62380000.0\n",
              "ค่าก่อสร้างศูนย์บริการแบบเบ็ดเสร็จ                 จังหวัดเชียงราย          45800000.0\n",
              "ระบบการเตรียมข้อมูลของบัตรประจำตัวประชาชน          จังหวัดปทุมธานี          31475100.0\n",
              "ค่าก่อสร้างอาคารที่ว่าการอาเภอหนองเรือ             จังหวัดขอนแก่น           26980000.0\n",
              "ค่าก่อสร้างอาคารที่ว่าการอำเภอขลุง                 จังหวัดจันทบุรี          26980000.0\n",
              "ค่าก่อสร้างอาคารที่ว่าการอาเภอภูเขียว              จังหวัดชัยภูมิ           26980000.0\n",
              "ค่าก่อสร้างอาคารที่ว่าการอำเภอสูงเนิน              จังหวัดนครราชสีมา        26980000.0\n",
              "ค่าก่อสร้างอาคารที่ว่าการอำเภอเมืองอุทัยธานี       จังหวัดอุทัยธานี         26980000.0\n",
              "ค่าก่อสร้างอาคารที่ว่าการอำเภอลำสนธิ               จังหวัดลพบุรี            26980000.0\n",
              "รถบรรทุก(ดีเซล)                                    จังหวัดปัตตานี           16336000.0\n",
              "                                                   จังหวัดยะลา              16336000.0\n",
              "ค่าก่อสร้างอาคารที่พักอาศัย                        จังหวัดประจวบคีรีขันธ์   14600000.0\n",
              "                                                   จังหวัดบุรีรัมย์         14600000.0\n",
              "ค่าก่อสร้างอาคารศูนย์ปฏิบัติการด้านการจัดเก็บข้... จังหวัดราชบุรี           14593500.0\n",
              "รถบรรทุก                                           จังหวัดยะลา              13120000.0\n",
              "                                                   จังหวัดปัตตานี           10870000.0\n",
              "ค่าก่อสร้างกองร้อยอาสารักษาดินแดนตามแบบมาตรฐานข... จังหวัดน่าน              10242800.0\n",
              "                                                   จังหวัดนครพนม            10242800.0\n",
              "                                                   จังหวัดพัทลุง            10242800.0\n",
              "                                                   จังหวัดพิษณุโลก          10242800.0\n",
              "                                                   จังหวัดสงขลา             10242800.0\n",
              "เครื่องคอมพิวเตอร์แม่ข่ายทดแทนเพื่อการบริหารจัด... กรุงเทพมหานคร             9951000.0\n",
              "รถตรวจการณ์                                        จังหวัดสงขลา              8360000.0\n",
              "                                                   จังหวัดยะลา               8360000.0\n",
              "รถบรรทุก(ดีเซล)                                    จังหวัดนราธิวาส           7459000.0\n",
              "รถบรรทุก                                           จังหวัดสงขลา              6560000.0\n",
              "รถบรรทุก(ดีเซล)                                    จังหวัดสงขลา              5209000.0\n",
              "รถปฏิบัติการทางยุทธวิธี                            กรุงเทพมหานคร             4495400.0\n",
              "รถตรวจการณ์                                        จังหวัดนราธิวาส           4180000.0\n",
              "                                                   จังหวัดปัตตานี            4180000.0\n",
              "รถโดยสารขนาด                                       จังหวัดยะลา               2716000.0\n",
              "รถบรรทุก                                           จังหวัดนราธิวาส           2060000.0\n",
              "รถโดยสารขนาด                                       จังหวัดฉะเชิงเทรา         1358000.0\n",
              "                                                   จังหวัดสุรินทร์           1358000.0\n",
              "                                                   จังหวัดกระบี่             1358000.0\n",
              "                                                   จังหวัดแม่ฮ่องสอน         1358000.0\n",
              "                                                   จังหวัดเชียงใหม่          1358000.0\n",
              "                                                   จังหวัดอ่างทอง            1358000.0\n",
              "                                                   จังหวัดสุราษฎร์ธานี       1358000.0\n",
              "                                                   จังหวัดตราด               1358000.0\n",
              "                                                   จังหวัดสิงห์บุรี          1358000.0\n",
              "                                                   จังหวัดสมุทรปราการ        1358000.0\n",
              "                                                   จังหวัดสงขลา              1358000.0\n",
              "                                                   จังหวัดจันทบุรี           1358000.0\n",
              "                                                   จังหวัดลพบุรี             1358000.0\n",
              "                                                   จังหวัดร้อยเอ็ด           1358000.0\n",
              "                                                   จังหวัดปัตตานี            1358000.0\n",
              "                                                   จังหวัดน่าน               1358000.0\n",
              "                                                   จังหวัดนนทบุรี            1358000.0\n",
              "                                                   จังหวัดลำปาง              1358000.0"
            ],
            "text/html": [
              "\n",
              "  <div id=\"df-de21e6b1-ad46-4a5e-9c85-aed15756fa41\">\n",
              "    <div class=\"colab-df-container\">\n",
              "      <div>\n",
              "<style scoped>\n",
              "    .dataframe tbody tr th:only-of-type {\n",
              "        vertical-align: middle;\n",
              "    }\n",
              "\n",
              "    .dataframe tbody tr th {\n",
              "        vertical-align: top;\n",
              "    }\n",
              "\n",
              "    .dataframe thead th {\n",
              "        text-align: right;\n",
              "    }\n",
              "</style>\n",
              "<table border=\"1\" class=\"dataframe\">\n",
              "  <thead>\n",
              "    <tr style=\"text-align: right;\">\n",
              "      <th></th>\n",
              "      <th></th>\n",
              "      <th>AMOUNT</th>\n",
              "    </tr>\n",
              "    <tr>\n",
              "      <th>MAIN</th>\n",
              "      <th>PROVINCE</th>\n",
              "      <th></th>\n",
              "    </tr>\n",
              "  </thead>\n",
              "  <tbody>\n",
              "    <tr>\n",
              "      <th>ระบบเสื่อสารวิทยุเฉพาะกิจ</th>\n",
              "      <th>กรุงเทพมหานคร</th>\n",
              "      <td>787333800.0</td>\n",
              "    </tr>\n",
              "    <tr>\n",
              "      <th>พัฒนาระบบบริหารจัดการภาครัฐเพื่อรักษาความสงบเรียบร้อย</th>\n",
              "      <th>กรุงเทพมหานคร</th>\n",
              "      <td>370524700.0</td>\n",
              "    </tr>\n",
              "    <tr>\n",
              "      <th>ระบบคอมพิวเตอร์แเละอุปกรณ์เพื่อทดแทนระบบการบูรณาการ</th>\n",
              "      <th>จังหวัดปทุมธานี</th>\n",
              "      <td>86002000.0</td>\n",
              "    </tr>\n",
              "    <tr>\n",
              "      <th>ค่าก่อสร้างศูนย์บริการภาครัฐแบบเบ็ดเสร็จอำเภอเมืองนนทบุรี</th>\n",
              "      <th>จังหวัดนนทบุรี</th>\n",
              "      <td>83000000.0</td>\n",
              "    </tr>\n",
              "    <tr>\n",
              "      <th rowspan=\"3\" valign=\"top\">ระบบฐานข้อมูลหัวกระสุนปืนและปลอกกระสุนปืน</th>\n",
              "      <th>จังหวัดราชบุรี</th>\n",
              "      <td>82851000.0</td>\n",
              "    </tr>\n",
              "    <tr>\n",
              "      <th>จังหวัดพิษณุโลก</th>\n",
              "      <td>82751100.0</td>\n",
              "    </tr>\n",
              "    <tr>\n",
              "      <th>จังหวัดสุราษฎร์ธานี</th>\n",
              "      <td>82751100.0</td>\n",
              "    </tr>\n",
              "    <tr>\n",
              "      <th>ค่าก่อสร้างอาคารปฏิบัติการทางยุทธวิธีสิบสวนสอบสวน</th>\n",
              "      <th>จังหวัดลพบุรี</th>\n",
              "      <td>62380000.0</td>\n",
              "    </tr>\n",
              "    <tr>\n",
              "      <th>ค่าก่อสร้างศูนย์บริการแบบเบ็ดเสร็จ</th>\n",
              "      <th>จังหวัดเชียงราย</th>\n",
              "      <td>45800000.0</td>\n",
              "    </tr>\n",
              "    <tr>\n",
              "      <th>ระบบการเตรียมข้อมูลของบัตรประจำตัวประชาชน</th>\n",
              "      <th>จังหวัดปทุมธานี</th>\n",
              "      <td>31475100.0</td>\n",
              "    </tr>\n",
              "    <tr>\n",
              "      <th>ค่าก่อสร้างอาคารที่ว่าการอาเภอหนองเรือ</th>\n",
              "      <th>จังหวัดขอนแก่น</th>\n",
              "      <td>26980000.0</td>\n",
              "    </tr>\n",
              "    <tr>\n",
              "      <th>ค่าก่อสร้างอาคารที่ว่าการอำเภอขลุง</th>\n",
              "      <th>จังหวัดจันทบุรี</th>\n",
              "      <td>26980000.0</td>\n",
              "    </tr>\n",
              "    <tr>\n",
              "      <th>ค่าก่อสร้างอาคารที่ว่าการอาเภอภูเขียว</th>\n",
              "      <th>จังหวัดชัยภูมิ</th>\n",
              "      <td>26980000.0</td>\n",
              "    </tr>\n",
              "    <tr>\n",
              "      <th>ค่าก่อสร้างอาคารที่ว่าการอำเภอสูงเนิน</th>\n",
              "      <th>จังหวัดนครราชสีมา</th>\n",
              "      <td>26980000.0</td>\n",
              "    </tr>\n",
              "    <tr>\n",
              "      <th>ค่าก่อสร้างอาคารที่ว่าการอำเภอเมืองอุทัยธานี</th>\n",
              "      <th>จังหวัดอุทัยธานี</th>\n",
              "      <td>26980000.0</td>\n",
              "    </tr>\n",
              "    <tr>\n",
              "      <th>ค่าก่อสร้างอาคารที่ว่าการอำเภอลำสนธิ</th>\n",
              "      <th>จังหวัดลพบุรี</th>\n",
              "      <td>26980000.0</td>\n",
              "    </tr>\n",
              "    <tr>\n",
              "      <th rowspan=\"2\" valign=\"top\">รถบรรทุก(ดีเซล)</th>\n",
              "      <th>จังหวัดปัตตานี</th>\n",
              "      <td>16336000.0</td>\n",
              "    </tr>\n",
              "    <tr>\n",
              "      <th>จังหวัดยะลา</th>\n",
              "      <td>16336000.0</td>\n",
              "    </tr>\n",
              "    <tr>\n",
              "      <th rowspan=\"2\" valign=\"top\">ค่าก่อสร้างอาคารที่พักอาศัย</th>\n",
              "      <th>จังหวัดประจวบคีรีขันธ์</th>\n",
              "      <td>14600000.0</td>\n",
              "    </tr>\n",
              "    <tr>\n",
              "      <th>จังหวัดบุรีรัมย์</th>\n",
              "      <td>14600000.0</td>\n",
              "    </tr>\n",
              "    <tr>\n",
              "      <th>ค่าก่อสร้างอาคารศูนย์ปฏิบัติการด้านการจัดเก็บข้อมูล</th>\n",
              "      <th>จังหวัดราชบุรี</th>\n",
              "      <td>14593500.0</td>\n",
              "    </tr>\n",
              "    <tr>\n",
              "      <th rowspan=\"2\" valign=\"top\">รถบรรทุก</th>\n",
              "      <th>จังหวัดยะลา</th>\n",
              "      <td>13120000.0</td>\n",
              "    </tr>\n",
              "    <tr>\n",
              "      <th>จังหวัดปัตตานี</th>\n",
              "      <td>10870000.0</td>\n",
              "    </tr>\n",
              "    <tr>\n",
              "      <th rowspan=\"5\" valign=\"top\">ค่าก่อสร้างกองร้อยอาสารักษาดินแดนตามแบบมาตรฐานขนาดใหญ่</th>\n",
              "      <th>จังหวัดน่าน</th>\n",
              "      <td>10242800.0</td>\n",
              "    </tr>\n",
              "    <tr>\n",
              "      <th>จังหวัดนครพนม</th>\n",
              "      <td>10242800.0</td>\n",
              "    </tr>\n",
              "    <tr>\n",
              "      <th>จังหวัดพัทลุง</th>\n",
              "      <td>10242800.0</td>\n",
              "    </tr>\n",
              "    <tr>\n",
              "      <th>จังหวัดพิษณุโลก</th>\n",
              "      <td>10242800.0</td>\n",
              "    </tr>\n",
              "    <tr>\n",
              "      <th>จังหวัดสงขลา</th>\n",
              "      <td>10242800.0</td>\n",
              "    </tr>\n",
              "    <tr>\n",
              "      <th>เครื่องคอมพิวเตอร์แม่ข่ายทดแทนเพื่อการบริหารจัดการฐานข้อมูลกลาง</th>\n",
              "      <th>กรุงเทพมหานคร</th>\n",
              "      <td>9951000.0</td>\n",
              "    </tr>\n",
              "    <tr>\n",
              "      <th rowspan=\"2\" valign=\"top\">รถตรวจการณ์</th>\n",
              "      <th>จังหวัดสงขลา</th>\n",
              "      <td>8360000.0</td>\n",
              "    </tr>\n",
              "    <tr>\n",
              "      <th>จังหวัดยะลา</th>\n",
              "      <td>8360000.0</td>\n",
              "    </tr>\n",
              "    <tr>\n",
              "      <th>รถบรรทุก(ดีเซล)</th>\n",
              "      <th>จังหวัดนราธิวาส</th>\n",
              "      <td>7459000.0</td>\n",
              "    </tr>\n",
              "    <tr>\n",
              "      <th>รถบรรทุก</th>\n",
              "      <th>จังหวัดสงขลา</th>\n",
              "      <td>6560000.0</td>\n",
              "    </tr>\n",
              "    <tr>\n",
              "      <th>รถบรรทุก(ดีเซล)</th>\n",
              "      <th>จังหวัดสงขลา</th>\n",
              "      <td>5209000.0</td>\n",
              "    </tr>\n",
              "    <tr>\n",
              "      <th>รถปฏิบัติการทางยุทธวิธี</th>\n",
              "      <th>กรุงเทพมหานคร</th>\n",
              "      <td>4495400.0</td>\n",
              "    </tr>\n",
              "    <tr>\n",
              "      <th rowspan=\"2\" valign=\"top\">รถตรวจการณ์</th>\n",
              "      <th>จังหวัดนราธิวาส</th>\n",
              "      <td>4180000.0</td>\n",
              "    </tr>\n",
              "    <tr>\n",
              "      <th>จังหวัดปัตตานี</th>\n",
              "      <td>4180000.0</td>\n",
              "    </tr>\n",
              "    <tr>\n",
              "      <th>รถโดยสารขนาด</th>\n",
              "      <th>จังหวัดยะลา</th>\n",
              "      <td>2716000.0</td>\n",
              "    </tr>\n",
              "    <tr>\n",
              "      <th>รถบรรทุก</th>\n",
              "      <th>จังหวัดนราธิวาส</th>\n",
              "      <td>2060000.0</td>\n",
              "    </tr>\n",
              "    <tr>\n",
              "      <th rowspan=\"18\" valign=\"top\">รถโดยสารขนาด</th>\n",
              "      <th>จังหวัดฉะเชิงเทรา</th>\n",
              "      <td>1358000.0</td>\n",
              "    </tr>\n",
              "    <tr>\n",
              "      <th>จังหวัดสุรินทร์</th>\n",
              "      <td>1358000.0</td>\n",
              "    </tr>\n",
              "    <tr>\n",
              "      <th>จังหวัดกระบี่</th>\n",
              "      <td>1358000.0</td>\n",
              "    </tr>\n",
              "    <tr>\n",
              "      <th>จังหวัดแม่ฮ่องสอน</th>\n",
              "      <td>1358000.0</td>\n",
              "    </tr>\n",
              "    <tr>\n",
              "      <th>จังหวัดเชียงใหม่</th>\n",
              "      <td>1358000.0</td>\n",
              "    </tr>\n",
              "    <tr>\n",
              "      <th>จังหวัดอ่างทอง</th>\n",
              "      <td>1358000.0</td>\n",
              "    </tr>\n",
              "    <tr>\n",
              "      <th>จังหวัดสุราษฎร์ธานี</th>\n",
              "      <td>1358000.0</td>\n",
              "    </tr>\n",
              "    <tr>\n",
              "      <th>จังหวัดตราด</th>\n",
              "      <td>1358000.0</td>\n",
              "    </tr>\n",
              "    <tr>\n",
              "      <th>จังหวัดสิงห์บุรี</th>\n",
              "      <td>1358000.0</td>\n",
              "    </tr>\n",
              "    <tr>\n",
              "      <th>จังหวัดสมุทรปราการ</th>\n",
              "      <td>1358000.0</td>\n",
              "    </tr>\n",
              "    <tr>\n",
              "      <th>จังหวัดสงขลา</th>\n",
              "      <td>1358000.0</td>\n",
              "    </tr>\n",
              "    <tr>\n",
              "      <th>จังหวัดจันทบุรี</th>\n",
              "      <td>1358000.0</td>\n",
              "    </tr>\n",
              "    <tr>\n",
              "      <th>จังหวัดลพบุรี</th>\n",
              "      <td>1358000.0</td>\n",
              "    </tr>\n",
              "    <tr>\n",
              "      <th>จังหวัดร้อยเอ็ด</th>\n",
              "      <td>1358000.0</td>\n",
              "    </tr>\n",
              "    <tr>\n",
              "      <th>จังหวัดปัตตานี</th>\n",
              "      <td>1358000.0</td>\n",
              "    </tr>\n",
              "    <tr>\n",
              "      <th>จังหวัดน่าน</th>\n",
              "      <td>1358000.0</td>\n",
              "    </tr>\n",
              "    <tr>\n",
              "      <th>จังหวัดนนทบุรี</th>\n",
              "      <td>1358000.0</td>\n",
              "    </tr>\n",
              "    <tr>\n",
              "      <th>จังหวัดลำปาง</th>\n",
              "      <td>1358000.0</td>\n",
              "    </tr>\n",
              "  </tbody>\n",
              "</table>\n",
              "</div>\n",
              "      <button class=\"colab-df-convert\" onclick=\"convertToInteractive('df-de21e6b1-ad46-4a5e-9c85-aed15756fa41')\"\n",
              "              title=\"Convert this dataframe to an interactive table.\"\n",
              "              style=\"display:none;\">\n",
              "        \n",
              "  <svg xmlns=\"http://www.w3.org/2000/svg\" height=\"24px\"viewBox=\"0 0 24 24\"\n",
              "       width=\"24px\">\n",
              "    <path d=\"M0 0h24v24H0V0z\" fill=\"none\"/>\n",
              "    <path d=\"M18.56 5.44l.94 2.06.94-2.06 2.06-.94-2.06-.94-.94-2.06-.94 2.06-2.06.94zm-11 1L8.5 8.5l.94-2.06 2.06-.94-2.06-.94L8.5 2.5l-.94 2.06-2.06.94zm10 10l.94 2.06.94-2.06 2.06-.94-2.06-.94-.94-2.06-.94 2.06-2.06.94z\"/><path d=\"M17.41 7.96l-1.37-1.37c-.4-.4-.92-.59-1.43-.59-.52 0-1.04.2-1.43.59L10.3 9.45l-7.72 7.72c-.78.78-.78 2.05 0 2.83L4 21.41c.39.39.9.59 1.41.59.51 0 1.02-.2 1.41-.59l7.78-7.78 2.81-2.81c.8-.78.8-2.07 0-2.86zM5.41 20L4 18.59l7.72-7.72 1.47 1.35L5.41 20z\"/>\n",
              "  </svg>\n",
              "      </button>\n",
              "      \n",
              "  <style>\n",
              "    .colab-df-container {\n",
              "      display:flex;\n",
              "      flex-wrap:wrap;\n",
              "      gap: 12px;\n",
              "    }\n",
              "\n",
              "    .colab-df-convert {\n",
              "      background-color: #E8F0FE;\n",
              "      border: none;\n",
              "      border-radius: 50%;\n",
              "      cursor: pointer;\n",
              "      display: none;\n",
              "      fill: #1967D2;\n",
              "      height: 32px;\n",
              "      padding: 0 0 0 0;\n",
              "      width: 32px;\n",
              "    }\n",
              "\n",
              "    .colab-df-convert:hover {\n",
              "      background-color: #E2EBFA;\n",
              "      box-shadow: 0px 1px 2px rgba(60, 64, 67, 0.3), 0px 1px 3px 1px rgba(60, 64, 67, 0.15);\n",
              "      fill: #174EA6;\n",
              "    }\n",
              "\n",
              "    [theme=dark] .colab-df-convert {\n",
              "      background-color: #3B4455;\n",
              "      fill: #D2E3FC;\n",
              "    }\n",
              "\n",
              "    [theme=dark] .colab-df-convert:hover {\n",
              "      background-color: #434B5C;\n",
              "      box-shadow: 0px 1px 3px 1px rgba(0, 0, 0, 0.15);\n",
              "      filter: drop-shadow(0px 1px 2px rgba(0, 0, 0, 0.3));\n",
              "      fill: #FFFFFF;\n",
              "    }\n",
              "  </style>\n",
              "\n",
              "      <script>\n",
              "        const buttonEl =\n",
              "          document.querySelector('#df-de21e6b1-ad46-4a5e-9c85-aed15756fa41 button.colab-df-convert');\n",
              "        buttonEl.style.display =\n",
              "          google.colab.kernel.accessAllowed ? 'block' : 'none';\n",
              "\n",
              "        async function convertToInteractive(key) {\n",
              "          const element = document.querySelector('#df-de21e6b1-ad46-4a5e-9c85-aed15756fa41');\n",
              "          const dataTable =\n",
              "            await google.colab.kernel.invokeFunction('convertToInteractive',\n",
              "                                                     [key], {});\n",
              "          if (!dataTable) return;\n",
              "\n",
              "          const docLinkHtml = 'Like what you see? Visit the ' +\n",
              "            '<a target=\"_blank\" href=https://colab.research.google.com/notebooks/data_table.ipynb>data table notebook</a>'\n",
              "            + ' to learn more about interactive tables.';\n",
              "          element.innerHTML = '';\n",
              "          dataTable['output_type'] = 'display_data';\n",
              "          await google.colab.output.renderOutput(dataTable, element);\n",
              "          const docLink = document.createElement('div');\n",
              "          docLink.innerHTML = docLinkHtml;\n",
              "          element.appendChild(docLink);\n",
              "        }\n",
              "      </script>\n",
              "    </div>\n",
              "  </div>\n",
              "  "
            ]
          },
          "metadata": {},
          "execution_count": 16
        }
      ]
    },
    {
      "cell_type": "code",
      "source": [
        "check = df.groupby(['MINISTRY'])[['AMOUNT', 2023]].sum().sort_values(by = 'AMOUNT', ascending = False)"
      ],
      "metadata": {
        "id": "OSjd13nAx7Kw"
      },
      "execution_count": null,
      "outputs": []
    },
    {
      "cell_type": "code",
      "source": [
        "check[check[2023] <= 11517780500]"
      ],
      "metadata": {
        "colab": {
          "base_uri": "https://localhost:8080/",
          "height": 551
        },
        "id": "hb2l8MXVyHi9",
        "outputId": "25cc475b-0e4b-4ac9-ba67-8afc28e4c6ef"
      },
      "execution_count": null,
      "outputs": [
        {
          "output_type": "execute_result",
          "data": {
            "text/plain": [
              "                                             AMOUNT          2023\n",
              "MINISTRY                                                         \n",
              "กระทรวงยุติธรรม                        2.268090e+10  7.733045e+09\n",
              "หน่วยงานของรัฐสภา                      1.377881e+10  1.109594e+10\n",
              "หน่วยงานของศาล                         1.040858e+10  1.239281e+09\n",
              "หน่วยงานขององค์กรอิสระและองค์กรอัยการ  9.313607e+09  1.968531e+09\n",
              "กระทรวงดิจิทัลเพื่อเศรษฐกิจและสังคม    9.225756e+09  3.082314e+09\n",
              "ส่วนราชการในพระองค์                    8.611670e+09  8.611670e+09\n",
              "สภากาชาดไทย                            5.495638e+09  2.724790e+09\n",
              "กระทรวงวัฒนธรรม                        5.364911e+09  3.074433e+09\n",
              "กระทรวงอุตสาหกรรม                      4.456310e+09  2.619579e+09\n",
              "กระทรวงการต่างประเทศ                   4.401756e+09  3.006208e+09\n",
              "กระทรวงพาณิชย์                         4.179863e+09  2.839302e+09\n",
              "กระทรวงการท่องเที่ยวและกีฬา            3.897877e+09  3.021280e+09\n",
              "กระทรวงแรงงาน                          3.097352e+09  3.029278e+09\n",
              "กระทรวงพลังงาน                         2.526109e+09  1.489668e+09\n",
              "หน่วยงานอื่นของรัฐ                     4.051050e+07  4.051050e+07"
            ],
            "text/html": [
              "\n",
              "  <div id=\"df-8e7410e9-d6d4-4508-85f5-cf0c9c337718\">\n",
              "    <div class=\"colab-df-container\">\n",
              "      <div>\n",
              "<style scoped>\n",
              "    .dataframe tbody tr th:only-of-type {\n",
              "        vertical-align: middle;\n",
              "    }\n",
              "\n",
              "    .dataframe tbody tr th {\n",
              "        vertical-align: top;\n",
              "    }\n",
              "\n",
              "    .dataframe thead th {\n",
              "        text-align: right;\n",
              "    }\n",
              "</style>\n",
              "<table border=\"1\" class=\"dataframe\">\n",
              "  <thead>\n",
              "    <tr style=\"text-align: right;\">\n",
              "      <th></th>\n",
              "      <th>AMOUNT</th>\n",
              "      <th>2023</th>\n",
              "    </tr>\n",
              "    <tr>\n",
              "      <th>MINISTRY</th>\n",
              "      <th></th>\n",
              "      <th></th>\n",
              "    </tr>\n",
              "  </thead>\n",
              "  <tbody>\n",
              "    <tr>\n",
              "      <th>กระทรวงยุติธรรม</th>\n",
              "      <td>2.268090e+10</td>\n",
              "      <td>7.733045e+09</td>\n",
              "    </tr>\n",
              "    <tr>\n",
              "      <th>หน่วยงานของรัฐสภา</th>\n",
              "      <td>1.377881e+10</td>\n",
              "      <td>1.109594e+10</td>\n",
              "    </tr>\n",
              "    <tr>\n",
              "      <th>หน่วยงานของศาล</th>\n",
              "      <td>1.040858e+10</td>\n",
              "      <td>1.239281e+09</td>\n",
              "    </tr>\n",
              "    <tr>\n",
              "      <th>หน่วยงานขององค์กรอิสระและองค์กรอัยการ</th>\n",
              "      <td>9.313607e+09</td>\n",
              "      <td>1.968531e+09</td>\n",
              "    </tr>\n",
              "    <tr>\n",
              "      <th>กระทรวงดิจิทัลเพื่อเศรษฐกิจและสังคม</th>\n",
              "      <td>9.225756e+09</td>\n",
              "      <td>3.082314e+09</td>\n",
              "    </tr>\n",
              "    <tr>\n",
              "      <th>ส่วนราชการในพระองค์</th>\n",
              "      <td>8.611670e+09</td>\n",
              "      <td>8.611670e+09</td>\n",
              "    </tr>\n",
              "    <tr>\n",
              "      <th>สภากาชาดไทย</th>\n",
              "      <td>5.495638e+09</td>\n",
              "      <td>2.724790e+09</td>\n",
              "    </tr>\n",
              "    <tr>\n",
              "      <th>กระทรวงวัฒนธรรม</th>\n",
              "      <td>5.364911e+09</td>\n",
              "      <td>3.074433e+09</td>\n",
              "    </tr>\n",
              "    <tr>\n",
              "      <th>กระทรวงอุตสาหกรรม</th>\n",
              "      <td>4.456310e+09</td>\n",
              "      <td>2.619579e+09</td>\n",
              "    </tr>\n",
              "    <tr>\n",
              "      <th>กระทรวงการต่างประเทศ</th>\n",
              "      <td>4.401756e+09</td>\n",
              "      <td>3.006208e+09</td>\n",
              "    </tr>\n",
              "    <tr>\n",
              "      <th>กระทรวงพาณิชย์</th>\n",
              "      <td>4.179863e+09</td>\n",
              "      <td>2.839302e+09</td>\n",
              "    </tr>\n",
              "    <tr>\n",
              "      <th>กระทรวงการท่องเที่ยวและกีฬา</th>\n",
              "      <td>3.897877e+09</td>\n",
              "      <td>3.021280e+09</td>\n",
              "    </tr>\n",
              "    <tr>\n",
              "      <th>กระทรวงแรงงาน</th>\n",
              "      <td>3.097352e+09</td>\n",
              "      <td>3.029278e+09</td>\n",
              "    </tr>\n",
              "    <tr>\n",
              "      <th>กระทรวงพลังงาน</th>\n",
              "      <td>2.526109e+09</td>\n",
              "      <td>1.489668e+09</td>\n",
              "    </tr>\n",
              "    <tr>\n",
              "      <th>หน่วยงานอื่นของรัฐ</th>\n",
              "      <td>4.051050e+07</td>\n",
              "      <td>4.051050e+07</td>\n",
              "    </tr>\n",
              "  </tbody>\n",
              "</table>\n",
              "</div>\n",
              "      <button class=\"colab-df-convert\" onclick=\"convertToInteractive('df-8e7410e9-d6d4-4508-85f5-cf0c9c337718')\"\n",
              "              title=\"Convert this dataframe to an interactive table.\"\n",
              "              style=\"display:none;\">\n",
              "        \n",
              "  <svg xmlns=\"http://www.w3.org/2000/svg\" height=\"24px\"viewBox=\"0 0 24 24\"\n",
              "       width=\"24px\">\n",
              "    <path d=\"M0 0h24v24H0V0z\" fill=\"none\"/>\n",
              "    <path d=\"M18.56 5.44l.94 2.06.94-2.06 2.06-.94-2.06-.94-.94-2.06-.94 2.06-2.06.94zm-11 1L8.5 8.5l.94-2.06 2.06-.94-2.06-.94L8.5 2.5l-.94 2.06-2.06.94zm10 10l.94 2.06.94-2.06 2.06-.94-2.06-.94-.94-2.06-.94 2.06-2.06.94z\"/><path d=\"M17.41 7.96l-1.37-1.37c-.4-.4-.92-.59-1.43-.59-.52 0-1.04.2-1.43.59L10.3 9.45l-7.72 7.72c-.78.78-.78 2.05 0 2.83L4 21.41c.39.39.9.59 1.41.59.51 0 1.02-.2 1.41-.59l7.78-7.78 2.81-2.81c.8-.78.8-2.07 0-2.86zM5.41 20L4 18.59l7.72-7.72 1.47 1.35L5.41 20z\"/>\n",
              "  </svg>\n",
              "      </button>\n",
              "      \n",
              "  <style>\n",
              "    .colab-df-container {\n",
              "      display:flex;\n",
              "      flex-wrap:wrap;\n",
              "      gap: 12px;\n",
              "    }\n",
              "\n",
              "    .colab-df-convert {\n",
              "      background-color: #E8F0FE;\n",
              "      border: none;\n",
              "      border-radius: 50%;\n",
              "      cursor: pointer;\n",
              "      display: none;\n",
              "      fill: #1967D2;\n",
              "      height: 32px;\n",
              "      padding: 0 0 0 0;\n",
              "      width: 32px;\n",
              "    }\n",
              "\n",
              "    .colab-df-convert:hover {\n",
              "      background-color: #E2EBFA;\n",
              "      box-shadow: 0px 1px 2px rgba(60, 64, 67, 0.3), 0px 1px 3px 1px rgba(60, 64, 67, 0.15);\n",
              "      fill: #174EA6;\n",
              "    }\n",
              "\n",
              "    [theme=dark] .colab-df-convert {\n",
              "      background-color: #3B4455;\n",
              "      fill: #D2E3FC;\n",
              "    }\n",
              "\n",
              "    [theme=dark] .colab-df-convert:hover {\n",
              "      background-color: #434B5C;\n",
              "      box-shadow: 0px 1px 3px 1px rgba(0, 0, 0, 0.15);\n",
              "      filter: drop-shadow(0px 1px 2px rgba(0, 0, 0, 0.3));\n",
              "      fill: #FFFFFF;\n",
              "    }\n",
              "  </style>\n",
              "\n",
              "      <script>\n",
              "        const buttonEl =\n",
              "          document.querySelector('#df-8e7410e9-d6d4-4508-85f5-cf0c9c337718 button.colab-df-convert');\n",
              "        buttonEl.style.display =\n",
              "          google.colab.kernel.accessAllowed ? 'block' : 'none';\n",
              "\n",
              "        async function convertToInteractive(key) {\n",
              "          const element = document.querySelector('#df-8e7410e9-d6d4-4508-85f5-cf0c9c337718');\n",
              "          const dataTable =\n",
              "            await google.colab.kernel.invokeFunction('convertToInteractive',\n",
              "                                                     [key], {});\n",
              "          if (!dataTable) return;\n",
              "\n",
              "          const docLinkHtml = 'Like what you see? Visit the ' +\n",
              "            '<a target=\"_blank\" href=https://colab.research.google.com/notebooks/data_table.ipynb>data table notebook</a>'\n",
              "            + ' to learn more about interactive tables.';\n",
              "          element.innerHTML = '';\n",
              "          dataTable['output_type'] = 'display_data';\n",
              "          await google.colab.output.renderOutput(dataTable, element);\n",
              "          const docLink = document.createElement('div');\n",
              "          docLink.innerHTML = docLinkHtml;\n",
              "          element.appendChild(docLink);\n",
              "        }\n",
              "      </script>\n",
              "    </div>\n",
              "  </div>\n",
              "  "
            ]
          },
          "metadata": {},
          "execution_count": 13
        }
      ]
    },
    {
      "cell_type": "code",
      "source": [
        "df_personel = df[df.MAIN.str.contains('รถประจำตำแหน่ง')].groupby('BUDGETARY_UNIT')[['AMOUNT', 2023]].sum().sort_values(by = 'AMOUNT', ascending = False)"
      ],
      "metadata": {
        "id": "uMSFz_-4M0MM"
      },
      "execution_count": null,
      "outputs": []
    },
    {
      "cell_type": "markdown",
      "source": [
        "#4. Export"
      ],
      "metadata": {
        "id": "kFPTFW13H7Ws"
      }
    },
    {
      "cell_type": "code",
      "source": [
        "df_dpt.to_excel(\"df_dpt.xlsx\", sheet_name = 'raw', index = False)"
      ],
      "metadata": {
        "id": "L4jYyMW6H7SZ"
      },
      "execution_count": null,
      "outputs": []
    },
    {
      "cell_type": "code",
      "source": [
        "df_dopa.to_excel(\"df_dopa.xlsx\", sheet_name = 'raw', index = False)"
      ],
      "metadata": {
        "id": "ocGYjMRwWvqH"
      },
      "execution_count": null,
      "outputs": []
    },
    {
      "cell_type": "code",
      "source": [
        "df_personel.to_excel(\"df_personel.xlsx\", sheet_name = 'raw_personel', index = False)"
      ],
      "metadata": {
        "id": "Ky27ZXiQAMA8"
      },
      "execution_count": null,
      "outputs": []
    },
    {
      "cell_type": "code",
      "source": [
        ""
      ],
      "metadata": {
        "id": "vVimtdcFHJYP"
      },
      "execution_count": null,
      "outputs": []
    }
  ]
}