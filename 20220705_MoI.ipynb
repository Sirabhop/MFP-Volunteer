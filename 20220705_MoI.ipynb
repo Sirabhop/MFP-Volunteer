{
  "nbformat": 4,
  "nbformat_minor": 0,
  "metadata": {
    "colab": {
      "name": "20220705_MoI.ipynb",
      "provenance": [],
      "mount_file_id": "1VrXehYxhrhisPeaNDyy8UBjbXbVgecjv",
      "authorship_tag": "ABX9TyPFarNWAcSKa/BEcWrs+CKl",
      "include_colab_link": true
    },
    "kernelspec": {
      "name": "python3",
      "display_name": "Python 3"
    },
    "language_info": {
      "name": "python"
    }
  },
  "cells": [
    {
      "cell_type": "markdown",
      "metadata": {
        "id": "view-in-github",
        "colab_type": "text"
      },
      "source": [
        "<a href=\"https://colab.research.google.com/github/Sirabhop/MFP-Volunteer/blob/main/20220705_MoI.ipynb\" target=\"_parent\"><img src=\"https://colab.research.google.com/assets/colab-badge.svg\" alt=\"Open In Colab\"/></a>"
      ]
    },
    {
      "cell_type": "markdown",
      "source": [
        "#Ministry of Interior"
      ],
      "metadata": {
        "id": "WdfxoLzg10nH"
      }
    },
    {
      "cell_type": "markdown",
      "source": [
        "Import neccessary function and library"
      ],
      "metadata": {
        "id": "SMIucD3718sw"
      }
    },
    {
      "cell_type": "code",
      "source": [
        "import os\n",
        "import pandas as pd\n",
        "import matplotlib.pyplot as plt\n",
        "import numpy as np\n",
        "import requests\n",
        "import json\n",
        "from IPython.display import clear_output"
      ],
      "metadata": {
        "id": "09hCVTIy2Dmj"
      },
      "execution_count": null,
      "outputs": []
    },
    {
      "cell_type": "code",
      "source": [
        "os.chdir(\"/content/drive/MyDrive/My Project/MFP_Volunteer/20220705_MoI\")\n",
        "df = pd.read_excel(\"/content/drive/MyDrive/My Project/MFP_Volunteer/budget_df.xlsx\", sheet_name=\"raw\")"
      ],
      "metadata": {
        "id": "LdpfePl72Q_b"
      },
      "execution_count": null,
      "outputs": []
    },
    {
      "cell_type": "markdown",
      "source": [
        "####Function"
      ],
      "metadata": {
        "id": "OWf0Pgqx5vbm"
      }
    },
    {
      "cell_type": "code",
      "execution_count": null,
      "metadata": {
        "id": "TVhbb-pU1lf_"
      },
      "outputs": [],
      "source": [
        "#For tracking data\n",
        "def track_status(df, col_list):\n",
        "  print('Row:', \"{:,}\".format(len(df.index)), 'and', 'Columns:', \"{:,}\".format(len(df.columns)))\n",
        "  for i in range(len(col_list)):\n",
        "    print(col_list[i]+':', \"{:,}\".format(df[col_list[i]].sum()))"
      ]
    },
    {
      "cell_type": "markdown",
      "source": [
        "##1. Slicing for specific unit\n",
        "\n",
        "Focus on \n",
        "1. Department of Public Work and Town & Country Planning\n",
        "2. Department of Provincial Administration"
      ],
      "metadata": {
        "id": "egjE46DY2HFE"
      }
    },
    {
      "cell_type": "code",
      "source": [
        "df = df[df['MINISTRY'] == \"กระทรวงมหาดไทย\"]\n",
        "track_status(df, ['AMOUNT'])"
      ],
      "metadata": {
        "colab": {
          "base_uri": "https://localhost:8080/"
        },
        "id": "gUibu2zP2LH7",
        "outputId": "5c8ac43a-4fbe-43f1-c297-b7b0f0f5fe05"
      },
      "execution_count": null,
      "outputs": [
        {
          "output_type": "stream",
          "name": "stdout",
          "text": [
            "Row: 2,479 and Columns: 123\n",
            "AMOUNT: 405,698,900,000.0\n"
          ]
        }
      ]
    },
    {
      "cell_type": "code",
      "source": [
        "df.BUDGETARY_UNIT.unique()"
      ],
      "metadata": {
        "colab": {
          "base_uri": "https://localhost:8080/"
        },
        "id": "CK7lywPv27zt",
        "outputId": "703eb385-ff64-45b5-875d-ec2a73027c11"
      },
      "execution_count": null,
      "outputs": [
        {
          "output_type": "execute_result",
          "data": {
            "text/plain": [
              "array(['กรมส่งเสริมการปกครองท้องถิ่น', 'กรมโยธาธิการและผังเมือง',\n",
              "       'กรมป้องกันและบรรเทาสาธารณภัย', 'กรมที่ดิน', 'กรมการพัฒนาชุมชน',\n",
              "       'สำนักงานปลัดกระทรวงมหาดไทย', 'กรมการปกครอง'], dtype=object)"
            ]
          },
          "metadata": {},
          "execution_count": 8
        }
      ]
    },
    {
      "cell_type": "code",
      "source": [
        "df_dpt = df[df['BUDGETARY_UNIT'] == 'กรมโยธาธิการและผังเมือง']\n",
        "df_dpt.dropna(axis = 1, how = 'all', inplace = True)\n",
        "df_dpt.reset_index(drop = True, inplace = True)\n",
        "track_status(df_dpt, ['AMOUNT'])"
      ],
      "metadata": {
        "colab": {
          "base_uri": "https://localhost:8080/"
        },
        "id": "eYGjqAaC2n6I",
        "outputId": "ffa59625-845b-415e-ce7a-df4a0a4d2c3d"
      },
      "execution_count": null,
      "outputs": [
        {
          "output_type": "stream",
          "name": "stdout",
          "text": [
            "Row: 1,682 and Columns: 33\n",
            "AMOUNT: 124,846,424,700.0\n"
          ]
        },
        {
          "output_type": "stream",
          "name": "stderr",
          "text": [
            "/usr/local/lib/python3.7/dist-packages/pandas/util/_decorators.py:311: SettingWithCopyWarning: \n",
            "A value is trying to be set on a copy of a slice from a DataFrame\n",
            "\n",
            "See the caveats in the documentation: https://pandas.pydata.org/pandas-docs/stable/user_guide/indexing.html#returning-a-view-versus-a-copy\n",
            "  return func(*args, **kwargs)\n"
          ]
        }
      ]
    },
    {
      "cell_type": "code",
      "source": [
        "df_dopa = df[df['BUDGETARY_UNIT'] == 'กรมการปกครอง']\n",
        "df_dopa.dropna(axis = 1, how = 'all', inplace = True)\n",
        "df_dopa.reset_index(drop = True, inplace = True)\n",
        "track_status(df_dopa, ['AMOUNT'])"
      ],
      "metadata": {
        "colab": {
          "base_uri": "https://localhost:8080/"
        },
        "id": "hreg5Sa63UyJ",
        "outputId": "7fd5ec81-f6f0-4294-9979-335518d3c1ca"
      },
      "execution_count": null,
      "outputs": [
        {
          "output_type": "stream",
          "name": "stdout",
          "text": [
            "Row: 156 and Columns: 29\n",
            "AMOUNT: 38,591,607,200.0\n"
          ]
        },
        {
          "output_type": "stream",
          "name": "stderr",
          "text": [
            "/usr/local/lib/python3.7/dist-packages/pandas/util/_decorators.py:311: SettingWithCopyWarning: \n",
            "A value is trying to be set on a copy of a slice from a DataFrame\n",
            "\n",
            "See the caveats in the documentation: https://pandas.pydata.org/pandas-docs/stable/user_guide/indexing.html#returning-a-view-versus-a-copy\n",
            "  return func(*args, **kwargs)\n"
          ]
        }
      ]
    },
    {
      "cell_type": "markdown",
      "source": [
        "## 3. Department of Public Works and Town & Country Planning"
      ],
      "metadata": {
        "id": "CCjkmtfo4GuW"
      }
    },
    {
      "cell_type": "markdown",
      "source": [
        "Main fous is dam"
      ],
      "metadata": {
        "id": "Aj6rDi3o4iID"
      }
    },
    {
      "cell_type": "code",
      "source": [
        "df_dam = df[df.ITEM_DESCRIPTION.str.contains('เขื่อนป้องกันตลิ่ง') | df.ITEM_DESCRIPTION.str.contains('เขื่อนบ้องกันตลิ่ง')].reset_index(drop = True)"
      ],
      "metadata": {
        "id": "mhv_wPk-4w28"
      },
      "execution_count": null,
      "outputs": []
    },
    {
      "cell_type": "code",
      "source": [
        "df_dam.groupby(\"MAIN\").BUDGETARY_UNIT.nunique().sort_values(ascending = False)"
      ],
      "metadata": {
        "colab": {
          "base_uri": "https://localhost:8080/"
        },
        "id": "g6_UCM623jOj",
        "outputId": "c4c5795b-ae48-41f9-fa90-9102ae7a8ce9"
      },
      "execution_count": null,
      "outputs": [
        {
          "output_type": "execute_result",
          "data": {
            "text/plain": [
              "MAIN\n",
              "การก่อสร้างเขื่อนป้องกันตลิ่งริมแม่น้ำโก-ลก                    1\n",
              "เขื่อนป้องกันตลิ่งริมแม่น้ำตาปี                                1\n",
              "เขื่อนป้องกันตลิ่งริมแม่น้ำท่าตะเภา                            1\n",
              "เขื่อนป้องกันตลิ่งริมแม่น้ำท่าจีนหมู่ที่                       1\n",
              "เขื่อนป้องกันตลิ่งริมแม่น้ำท่าจีน                              1\n",
              "                                                              ..\n",
              "เขื่อนป้องกันตลิ่งริมคลองภูมี                                  1\n",
              "เขื่อนป้องกันตลิ่งริมคลองภาษีเจริญ                             1\n",
              "เขื่อนป้องกันตลิ่งริมคลองพิกุลหมู่ที่                          1\n",
              "เขื่อนป้องกันตลิ่งริมคลองพังงา                                 1\n",
              "โครงการซ่อมแซมเขื่อนป้องกันตลิ่งริมแม่น้ำโขงบริเวณแก่งกะเบา    1\n",
              "Name: BUDGETARY_UNIT, Length: 405, dtype: int64"
            ]
          },
          "metadata": {},
          "execution_count": 40
        }
      ]
    },
    {
      "cell_type": "code",
      "source": [
        "df_dam = df_dam[df_dam['MINISTRY'] != 'กระทรวงคมนาคม']\n",
        "df_dam = df_dam[df_dam. != 'กระทรวงคมนาคม']"
      ],
      "metadata": {
        "id": "0N6TrabQEkm7"
      },
      "execution_count": null,
      "outputs": []
    },
    {
      "cell_type": "code",
      "source": [
        ""
      ],
      "metadata": {
        "id": "7iZHa9pyMIxX"
      },
      "execution_count": null,
      "outputs": []
    },
    {
      "cell_type": "code",
      "source": [
        "df_dam.dropna(axis = 1, how = 'all', inplace = True)"
      ],
      "metadata": {
        "id": "8AR8G0QrFASo"
      },
      "execution_count": null,
      "outputs": []
    },
    {
      "cell_type": "code",
      "source": [
        "df_dam.to_excel(\"df_dam.xlsx\", sheet_name = 'raw', index = False)"
      ],
      "metadata": {
        "id": "_IOoNn2nEbHd"
      },
      "execution_count": null,
      "outputs": []
    },
    {
      "cell_type": "code",
      "source": [
        "'สำนักงานปลัดกระทรวงสาธารณสุข' 'สำนักงานคณะกรรมการการศึกษาขั้นพื้นฐาน' 'สถาบันวิจัยดาราศาสตร์แห่งชาติ (องค์การมหาชน)', \n",
        "'มหาวิทยาลัยเทคโนโลยีสุรนารี' 'จังหวัดเพชรบุรี' 'จังหวัดลพบุรี', 'จังหวัดสุพรรณบุรี', 'กลุ่มจังหวัดภาคตะวันออก 2', 'กรมทรัพยากรน้ำ',\n",
        "'กรมทรัพยากรน้ำ'\n"
      ],
      "metadata": {
        "id": "A2NBlHKCEdBb"
      },
      "execution_count": null,
      "outputs": []
    },
    {
      "cell_type": "code",
      "source": [
        "'ช่อมสร้างผิวทางแอสฟัลต์คอนกรีต', 'ขุดลอกแม่น้ำตากแดด', 'ขยายช่องจราจรจาก', 'ช่อมสร้างถนนลาดยางแอสฟัลคอนกรีต', 'ก่อสร้างสะพานคนเดิน', \n",
        "'ขยายทางจราจร', 'ปรับปรุงทางหลวงเพื่อสนับสนุนแหล่งท่องเที่ยววัดพิกุลทอง', 'ค่าจ้างปรับปรุงโครงการไฟฟ้าพลังน้ำห้วยประทาว', 'รถบรรทุก', 'ขยายระบบท่อสงน้ำสายปราณบุรี'\n",
        "'ขุดลอกโดยรถขุดดำเนินการเอง', 'ค่าศึกษา', 'ถนนยางพาราแอสฟัลท์ติกคอนกรีตคลองสาย', 'ระบบท่อสงน้ำและอาคารประกอบพร้อมส่วนประกอบอื่น', 'อาคารป้องกันตลิ่งแม่น้ำเพชรบุรี', \n",
        "'อาคารท่อระบายน้ำลงลำน้ำเดิมและอาคารประกอบ', 'สถานีสูบน้ำและอาคารประกอบ', 'ป้องกันการกัดเชาะตลิ่งในลำน้ำสรวย', 'ปรับปรุงระบบส่งน้ำฝั่งขวา', 'ปรับปรุงระบบส่งน้ำฝั่งช้าย'"
      ],
      "metadata": {
        "id": "GEMeNG-RHjPu"
      },
      "execution_count": null,
      "outputs": []
    },
    {
      "cell_type": "markdown",
      "source": [
        ""
      ],
      "metadata": {
        "id": "kFPTFW13H7Ws"
      }
    },
    {
      "cell_type": "code",
      "source": [
        "df_dpt.to_excel(\"df_dpt.xlsx\", sheet_name = 'raw', index = False)"
      ],
      "metadata": {
        "id": "L4jYyMW6H7SZ"
      },
      "execution_count": null,
      "outputs": []
    },
    {
      "cell_type": "code",
      "source": [
        "df_dopa.to_excel(\"df_dopa.xlsx\", sheet_name = 'raw', index = False)"
      ],
      "metadata": {
        "id": "ocGYjMRwWvqH"
      },
      "execution_count": null,
      "outputs": []
    }
  ]
}